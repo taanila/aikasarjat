{
 "cells": [
  {
   "cell_type": "markdown",
   "metadata": {},
   "source": [
    "<h1>Tilastokeskuksen tietokannat</h1>\n",
    "\n",
    "Tilastokeskuksen tietokannoista (http://pxnet2.stat.fi/PXWeb/pxweb/fi/StatFin/) voin tallentaa päivittyvän linkin tietokantapoiminnan tuloksiin.\n",
    "\n",
    "Seuraavassa käytän tietokantapoimintaa tietokantaan \" Vanhojen osakeasuntojen hintaindeksi (2015=100) ja kauppojen lukumäärät, kuukausittain\". Kyseiseen tietokantaan pääsee osoitteesta http://pxnet2.stat.fi/PXWeb/pxweb/fi/StatFin/StatFin__asu__ashi__kk/?tablelist=true\n",
    "\n",
    "Tietokantapoiminnan viimeisessä vaiheessa (Näytä taulukko) voin tallentaa päivittyvän linkin tietokantapoimintaan <b>Tallenna poiminta</b> -toiminnolla."
   ]
  },
  {
   "cell_type": "code",
   "execution_count": 1,
   "metadata": {},
   "outputs": [],
   "source": [
    "import pandas as pd\n",
    "import matplotlib.pyplot as plt\n",
    "%matplotlib inline\n",
    "plt.style.use('seaborn-whitegrid')"
   ]
  },
  {
   "cell_type": "code",
   "execution_count": 2,
   "metadata": {},
   "outputs": [
    {
     "data": {
      "text/html": [
       "<div>\n",
       "<style scoped>\n",
       "    .dataframe tbody tr th:only-of-type {\n",
       "        vertical-align: middle;\n",
       "    }\n",
       "\n",
       "    .dataframe tbody tr th {\n",
       "        vertical-align: top;\n",
       "    }\n",
       "\n",
       "    .dataframe thead th {\n",
       "        text-align: right;\n",
       "    }\n",
       "</style>\n",
       "<table border=\"1\" class=\"dataframe\">\n",
       "  <thead>\n",
       "    <tr style=\"text-align: right;\">\n",
       "      <th></th>\n",
       "      <th>Kuukausi</th>\n",
       "      <th>Koko maa</th>\n",
       "      <th>Pääkaupunkiseutu (PKS)</th>\n",
       "      <th>Muu Suomi (koko maa pl. PKS)</th>\n",
       "    </tr>\n",
       "  </thead>\n",
       "  <tbody>\n",
       "    <tr>\n",
       "      <th>0</th>\n",
       "      <td>2015M01</td>\n",
       "      <td>2119.0</td>\n",
       "      <td>3520.0</td>\n",
       "      <td>1605.0</td>\n",
       "    </tr>\n",
       "    <tr>\n",
       "      <th>1</th>\n",
       "      <td>2015M02</td>\n",
       "      <td>2140.0</td>\n",
       "      <td>3581.0</td>\n",
       "      <td>1614.0</td>\n",
       "    </tr>\n",
       "    <tr>\n",
       "      <th>2</th>\n",
       "      <td>2015M03</td>\n",
       "      <td>2184.0</td>\n",
       "      <td>3689.0</td>\n",
       "      <td>1639.0</td>\n",
       "    </tr>\n",
       "    <tr>\n",
       "      <th>3</th>\n",
       "      <td>2015M04</td>\n",
       "      <td>2150.0</td>\n",
       "      <td>3597.0</td>\n",
       "      <td>1622.0</td>\n",
       "    </tr>\n",
       "    <tr>\n",
       "      <th>4</th>\n",
       "      <td>2015M05</td>\n",
       "      <td>2155.0</td>\n",
       "      <td>3565.0</td>\n",
       "      <td>1636.0</td>\n",
       "    </tr>\n",
       "  </tbody>\n",
       "</table>\n",
       "</div>"
      ],
      "text/plain": [
       "  Kuukausi  Koko maa  Pääkaupunkiseutu (PKS)  Muu Suomi (koko maa pl. PKS)\n",
       "0  2015M01    2119.0                  3520.0                        1605.0\n",
       "1  2015M02    2140.0                  3581.0                        1614.0\n",
       "2  2015M03    2184.0                  3689.0                        1639.0\n",
       "3  2015M04    2150.0                  3597.0                        1622.0\n",
       "4  2015M05    2155.0                  3565.0                        1636.0"
      ]
     },
     "execution_count": 2,
     "metadata": {},
     "output_type": "execute_result"
    }
   ],
   "source": [
    "# Käytän Tallenna poiminta -toiminnolla tallentamaani linkkiä\n",
    "# En ota mukaan kolmea ensimmäistä riviä ja sarakkeista vain [1, 2, 3, 4]\n",
    "df = pd.read_excel('http://pxnet2.stat.fi/PXWeb/sq/6ef1c06a-ab7a-4d2f-acee-c4216b99ff1f', \n",
    "                   skiprows = 3, usecols = [1, 2, 3, 4])\n",
    "\n",
    "# Nimeän huonosti nimetyn sarakkeen uudelleen\n",
    "df = df.rename(columns = {'Unnamed: 1' : 'Kuukausi'})\n",
    "df.head()"
   ]
  },
  {
   "cell_type": "code",
   "execution_count": 3,
   "metadata": {},
   "outputs": [
    {
     "data": {
      "text/plain": [
       "array(['2015M01', '2015M02', '2015M03', '2015M04', '2015M05', '2015M06',\n",
       "       '2015M07', '2015M08', '2015M09', '2015M10', '2015M11', '2015M12',\n",
       "       '2016M01', '2016M02', '2016M03', '2016M04', '2016M05', '2016M06',\n",
       "       '2016M07', '2016M08', '2016M09', '2016M10', '2016M11', '2016M12',\n",
       "       '2017M01', '2017M02', '2017M03', '2017M04', '2017M05', '2017M06',\n",
       "       '2017M07', '2017M08', '2017M09', '2017M10', '2017M11', '2017M12',\n",
       "       '2018M01', '2018M02', '2018M03', '2018M04', '2018M05', '2018M06',\n",
       "       '2018M07', '2018M08', '2018M09', '2018M10', '2018M11', '2018M12',\n",
       "       '2019M01', '2019M02', '2019M03', '2019M04', '2019M05', '2019M06',\n",
       "       '2019M07', '2019M08', '2019M09', '2019M10', '2019M11', '2019M12',\n",
       "       '2020M01', '2020M02', '2020M03', '2020M04', '2020M05', '2020M06',\n",
       "       '2020M07', '2020M08', '2020M09', '2020M10', '2020M11', '2020M12',\n",
       "       '2021M01*', '2021M02*', '2021M03*', '2021M04*', '2021M05*',\n",
       "       '2021M06*', '2021M07*', nan, nan, nan, nan, nan, nan, nan, nan,\n",
       "       nan, nan, nan, nan, nan, nan, nan, nan, nan, nan, nan, nan, nan,\n",
       "       nan, nan, nan, nan, nan, nan, nan, nan, nan, nan, nan, nan, nan,\n",
       "       nan, nan, nan, nan, nan, nan, nan, nan, nan, nan, nan, nan, nan,\n",
       "       nan, nan, nan, nan, nan, nan, nan, nan, nan, nan, nan, nan, nan,\n",
       "       nan, nan, nan, nan, nan, nan, nan, nan, nan, nan, nan, nan],\n",
       "      dtype=object)"
      ]
     },
     "execution_count": 3,
     "metadata": {},
     "output_type": "execute_result"
    }
   ],
   "source": [
    "# Uusimmat tiedot ovat tähdellä merkittyjä ennakkotietoja, jotka voivat vielä tarkentua\n",
    "df['Kuukausi'].values"
   ]
  },
  {
   "cell_type": "code",
   "execution_count": 4,
   "metadata": {},
   "outputs": [
    {
     "data": {
      "text/html": [
       "<div>\n",
       "<style scoped>\n",
       "    .dataframe tbody tr th:only-of-type {\n",
       "        vertical-align: middle;\n",
       "    }\n",
       "\n",
       "    .dataframe tbody tr th {\n",
       "        vertical-align: top;\n",
       "    }\n",
       "\n",
       "    .dataframe thead th {\n",
       "        text-align: right;\n",
       "    }\n",
       "</style>\n",
       "<table border=\"1\" class=\"dataframe\">\n",
       "  <thead>\n",
       "    <tr style=\"text-align: right;\">\n",
       "      <th></th>\n",
       "      <th>Koko maa</th>\n",
       "      <th>Pääkaupunkiseutu</th>\n",
       "      <th>Muu Suomi</th>\n",
       "    </tr>\n",
       "    <tr>\n",
       "      <th>Kuukausi</th>\n",
       "      <th></th>\n",
       "      <th></th>\n",
       "      <th></th>\n",
       "    </tr>\n",
       "  </thead>\n",
       "  <tbody>\n",
       "    <tr>\n",
       "      <th>2021-03-01</th>\n",
       "      <td>2368.0</td>\n",
       "      <td>4429.0</td>\n",
       "      <td>1668.0</td>\n",
       "    </tr>\n",
       "    <tr>\n",
       "      <th>2021-04-01</th>\n",
       "      <td>2404.0</td>\n",
       "      <td>4385.0</td>\n",
       "      <td>1717.0</td>\n",
       "    </tr>\n",
       "    <tr>\n",
       "      <th>2021-05-01</th>\n",
       "      <td>2456.0</td>\n",
       "      <td>4470.0</td>\n",
       "      <td>1756.0</td>\n",
       "    </tr>\n",
       "    <tr>\n",
       "      <th>2021-06-01</th>\n",
       "      <td>2448.0</td>\n",
       "      <td>4507.0</td>\n",
       "      <td>1739.0</td>\n",
       "    </tr>\n",
       "    <tr>\n",
       "      <th>2021-07-01</th>\n",
       "      <td>2492.0</td>\n",
       "      <td>4435.0</td>\n",
       "      <td>1805.0</td>\n",
       "    </tr>\n",
       "  </tbody>\n",
       "</table>\n",
       "</div>"
      ],
      "text/plain": [
       "            Koko maa  Pääkaupunkiseutu  Muu Suomi\n",
       "Kuukausi                                         \n",
       "2021-03-01    2368.0            4429.0     1668.0\n",
       "2021-04-01    2404.0            4385.0     1717.0\n",
       "2021-05-01    2456.0            4470.0     1756.0\n",
       "2021-06-01    2448.0            4507.0     1739.0\n",
       "2021-07-01    2492.0            4435.0     1805.0"
      ]
     },
     "execution_count": 4,
     "metadata": {},
     "output_type": "execute_result"
    }
   ],
   "source": [
    "# Poistan puuttuvia tietoja sisältävä rivit\n",
    "df = df.dropna(subset = ['Kuukausi'])\n",
    "\n",
    "# Poistan tähdet\n",
    "df['Kuukausi'] = df['Kuukausi'].astype(str).str.strip('*')\n",
    "\n",
    "# Lisään aikaleimat indeksiin. Huomaa formaatti, jossa M vuosiluvun Y ja kuukauden m välissä!\n",
    "df.index = pd.to_datetime(df['Kuukausi'], format = '%YM%m')\n",
    "df = df.drop('Kuukausi', axis = 1)\n",
    "\n",
    "# Lyhyemmät nimet\n",
    "df.columns = ['Koko maa', 'Pääkaupunkiseutu', 'Muu Suomi']\n",
    "\n",
    "df.tail()"
   ]
  },
  {
   "cell_type": "code",
   "execution_count": 6,
   "metadata": {},
   "outputs": [
    {
     "data": {
      "text/plain": [
       "Text(0, 0.5, 'Muu Suomi')"
      ]
     },
     "execution_count": 6,
     "metadata": {},
     "output_type": "execute_result"
    },
    {
     "data": {
      "image/png": "[encoded data removed]",
      "text/plain": [
       "<Figure size 432x288 with 2 Axes>"
      ]
     },
     "metadata": {},
     "output_type": "display_data"
    }
   ],
   "source": [
    "ax1 = df['Pääkaupunkiseutu'].plot(color = 'C0', title = 'Vanhojen osakeasuntojen neliöhinta')\n",
    "plt.ylabel('Pääkaupunkiseutu', color = 'C0', fontsize = 14)\n",
    "\n",
    "ax2 = ax1.twinx()\n",
    "df['Muu Suomi'].plot(ax = ax2, color = 'C1')\n",
    "plt.ylabel('Muu Suomi', color = 'C1', fontsize = 14)"
   ]
  }
 ],
 "metadata": {
  "kernelspec": {
   "display_name": "Python 3",
   "language": "python",
   "name": "python3"
  },
  "language_info": {
   "codemirror_mode": {
    "name": "ipython",
    "version": 3
   },
   "file_extension": ".py",
   "mimetype": "text/x-python",
   "name": "python",
   "nbconvert_exporter": "python",
   "pygments_lexer": "ipython3",
   "version": "3.9.6"
  }
 },
 "nbformat": 4,
 "nbformat_minor": 4
}
