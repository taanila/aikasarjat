{
 "cells": [
  {
   "cell_type": "markdown",
   "metadata": {},
   "source": [
    "<h1>Kaksinkertainen eksponentiaalinen tasoitus</h1>\n",
    "\n",
    "Kaksinkertaista eksponentiaalista tasoitusta kutsutaan myös Holtin malliksi.\n",
    "\n",
    "Kaksinkertainen eksponentiaalinen tasoitus sopii aikasarjoille, joissa on trendi, mutta ei havaittavaa kausivaihtelua. Eksponentiaalisen tasoituksen mallit (yksinkertainen, kaksinkertainen ja kolminkertainen) ovat erityisen suosittuja liiketaloudessa kysynnän ennustamisessa. Mallit ovat helppokäyttöisiä, nopeasti laskettavissa ja helposti päivitettävissä uusien havaintojen myötä.\n",
    "\n",
    "Eksponentiaalinen tasoitus löytyy <b>statsmodels.tsa</b>-kirjastosta.\n",
    "\n",
    "Huomaa, että tässä esimerkissä kaksinkertainen eksoponentiaalinen tasoitus ei ole hyvä malli, koska aikasarjassa on selkeä kausivaihtelu, jonka malli jättää huomiotta!\n",
    "\n",
    "Lisätietoa https://tilastoapu.wordpress.com/2018/08/30/aikasarjaennustaminen-2/"
   ]
  },
  {
   "cell_type": "code",
   "execution_count": 1,
   "metadata": {},
   "outputs": [],
   "source": [
    "import pandas as pd\n",
    "import matplotlib.pyplot as plt\n",
    "\n",
    "from statsmodels.tsa.api import ExponentialSmoothing\n",
    "\n",
    "import warnings\n",
    "warnings.filterwarnings('ignore')\n",
    "\n",
    "plt.style.use('seaborn-whitegrid')\n",
    "%matplotlib inline"
   ]
  },
  {
   "cell_type": "markdown",
   "metadata": {},
   "source": [
    "<h2>Aikasarjaan tutustuminen</h2>"
   ]
  },
  {
   "cell_type": "code",
   "execution_count": 2,
   "metadata": {},
   "outputs": [
    {
     "data": {
      "text/html": [
       "<div>\n",
       "<style scoped>\n",
       "    .dataframe tbody tr th:only-of-type {\n",
       "        vertical-align: middle;\n",
       "    }\n",
       "\n",
       "    .dataframe tbody tr th {\n",
       "        vertical-align: top;\n",
       "    }\n",
       "\n",
       "    .dataframe thead th {\n",
       "        text-align: right;\n",
       "    }\n",
       "</style>\n",
       "<table border=\"1\" class=\"dataframe\">\n",
       "  <thead>\n",
       "    <tr style=\"text-align: right;\">\n",
       "      <th></th>\n",
       "      <th>Vuosineljännes</th>\n",
       "      <th>Kysyntä</th>\n",
       "    </tr>\n",
       "  </thead>\n",
       "  <tbody>\n",
       "    <tr>\n",
       "      <th>0</th>\n",
       "      <td>2013-12-31</td>\n",
       "      <td>500</td>\n",
       "    </tr>\n",
       "    <tr>\n",
       "      <th>1</th>\n",
       "      <td>2014-03-31</td>\n",
       "      <td>350</td>\n",
       "    </tr>\n",
       "    <tr>\n",
       "      <th>2</th>\n",
       "      <td>2014-06-30</td>\n",
       "      <td>250</td>\n",
       "    </tr>\n",
       "    <tr>\n",
       "      <th>3</th>\n",
       "      <td>2014-09-30</td>\n",
       "      <td>400</td>\n",
       "    </tr>\n",
       "    <tr>\n",
       "      <th>4</th>\n",
       "      <td>2014-12-31</td>\n",
       "      <td>450</td>\n",
       "    </tr>\n",
       "  </tbody>\n",
       "</table>\n",
       "</div>"
      ],
      "text/plain": [
       "  Vuosineljännes  Kysyntä\n",
       "0     2013-12-31      500\n",
       "1     2014-03-31      350\n",
       "2     2014-06-30      250\n",
       "3     2014-09-30      400\n",
       "4     2014-12-31      450"
      ]
     },
     "execution_count": 2,
     "metadata": {},
     "output_type": "execute_result"
    }
   ],
   "source": [
    "df = pd.read_excel('http://taanila.fi/aikasarja.xlsx')\n",
    "df.head()"
   ]
  },
  {
   "cell_type": "code",
   "execution_count": 3,
   "metadata": {},
   "outputs": [
    {
     "data": {
      "text/html": [
       "<div>\n",
       "<style scoped>\n",
       "    .dataframe tbody tr th:only-of-type {\n",
       "        vertical-align: middle;\n",
       "    }\n",
       "\n",
       "    .dataframe tbody tr th {\n",
       "        vertical-align: top;\n",
       "    }\n",
       "\n",
       "    .dataframe thead th {\n",
       "        text-align: right;\n",
       "    }\n",
       "</style>\n",
       "<table border=\"1\" class=\"dataframe\">\n",
       "  <thead>\n",
       "    <tr style=\"text-align: right;\">\n",
       "      <th></th>\n",
       "      <th>Kysyntä</th>\n",
       "    </tr>\n",
       "    <tr>\n",
       "      <th>Vuosineljännes</th>\n",
       "      <th></th>\n",
       "    </tr>\n",
       "  </thead>\n",
       "  <tbody>\n",
       "    <tr>\n",
       "      <th>2013-12-31</th>\n",
       "      <td>500</td>\n",
       "    </tr>\n",
       "    <tr>\n",
       "      <th>2014-03-31</th>\n",
       "      <td>350</td>\n",
       "    </tr>\n",
       "    <tr>\n",
       "      <th>2014-06-30</th>\n",
       "      <td>250</td>\n",
       "    </tr>\n",
       "    <tr>\n",
       "      <th>2014-09-30</th>\n",
       "      <td>400</td>\n",
       "    </tr>\n",
       "    <tr>\n",
       "      <th>2014-12-31</th>\n",
       "      <td>450</td>\n",
       "    </tr>\n",
       "  </tbody>\n",
       "</table>\n",
       "</div>"
      ],
      "text/plain": [
       "                Kysyntä\n",
       "Vuosineljännes         \n",
       "2013-12-31          500\n",
       "2014-03-31          350\n",
       "2014-06-30          250\n",
       "2014-09-30          400\n",
       "2014-12-31          450"
      ]
     },
     "execution_count": 3,
     "metadata": {},
     "output_type": "execute_result"
    }
   ],
   "source": [
    "# Aikaleimat indeksiin\n",
    "# to_datetime muuntaa merkkijonomuotoisen tiedon aikaleimoiksi\n",
    "# format mahdollistaa erilaisten esitysmuotojen tunnistamisen aikaleimoiksi\n",
    "df.index = pd.to_datetime(df['Vuosineljännes'], format = \"%Y-%m-%d\")\n",
    "\n",
    "# Pudotetaan tarpeettomaksi käynyt sarake pois\n",
    "df = df.drop('Vuosineljännes', axis = 1)\n",
    "df.head()"
   ]
  },
  {
   "cell_type": "code",
   "execution_count": 4,
   "metadata": {},
   "outputs": [
    {
     "data": {
      "text/plain": [
       "<matplotlib.axes._subplots.AxesSubplot at 0x1e596ef52e0>"
      ]
     },
     "execution_count": 4,
     "metadata": {},
     "output_type": "execute_result"
    },
    {
     "data": {
      "image/png": "[encoded data removed]",
      "text/plain": [
       "<Figure size 432x288 with 1 Axes>"
      ]
     },
     "metadata": {
      "needs_background": "light"
     },
     "output_type": "display_data"
    }
   ],
   "source": [
    "df.plot()"
   ]
  },
  {
   "cell_type": "markdown",
   "metadata": {},
   "source": [
    "<h2>Mallin sovitus</h2>\n",
    "\n",
    "Ennustemalli sovitetaan (<b>fit()</b>) dataan.\n",
    "Tuloksena saadaan olio (tässä olen antanut oliolle nimeksi <b>malli</b>), joka sisältää monenlaista tietoa mallista.\n",
    "\n",
    "Trendiin (<b>trend</b>) käytän summamallia (<b>add</b>), jossa trendi on aikasarjaan lisättävä termi. Tämä on suositeltavin vaihtoehto.\n",
    "\n",
    "<b>freq</b>-parametrille käytän arvoa <b>'Q'</b>, koska kyseessä ovat vuosineljänneksien viimeiset päivät. Lisätietoa <b>freq</b>-parametrin mahdollisista arvoista https://pandas.pydata.org/pandas-docs/stable/user_guide/timeseries.html#offset-aliases"
   ]
  },
  {
   "cell_type": "code",
   "execution_count": 5,
   "metadata": {},
   "outputs": [],
   "source": [
    "malli = ExponentialSmoothing(df['Kysyntä'], trend = 'add', freq='Q').fit()"
   ]
  },
  {
   "cell_type": "code",
   "execution_count": 6,
   "metadata": {},
   "outputs": [
    {
     "data": {
      "text/html": [
       "<div>\n",
       "<style scoped>\n",
       "    .dataframe tbody tr th:only-of-type {\n",
       "        vertical-align: middle;\n",
       "    }\n",
       "\n",
       "    .dataframe tbody tr th {\n",
       "        vertical-align: top;\n",
       "    }\n",
       "\n",
       "    .dataframe thead th {\n",
       "        text-align: right;\n",
       "    }\n",
       "</style>\n",
       "<table border=\"1\" class=\"dataframe\">\n",
       "  <thead>\n",
       "    <tr style=\"text-align: right;\">\n",
       "      <th></th>\n",
       "      <th>Kysyntä</th>\n",
       "      <th>Ennuste</th>\n",
       "    </tr>\n",
       "    <tr>\n",
       "      <th>Vuosineljännes</th>\n",
       "      <th></th>\n",
       "      <th></th>\n",
       "    </tr>\n",
       "  </thead>\n",
       "  <tbody>\n",
       "    <tr>\n",
       "      <th>2013-12-31</th>\n",
       "      <td>500</td>\n",
       "      <td>409.956208</td>\n",
       "    </tr>\n",
       "    <tr>\n",
       "      <th>2014-03-31</th>\n",
       "      <td>350</td>\n",
       "      <td>438.107318</td>\n",
       "    </tr>\n",
       "    <tr>\n",
       "      <th>2014-06-30</th>\n",
       "      <td>250</td>\n",
       "      <td>416.202652</td>\n",
       "    </tr>\n",
       "    <tr>\n",
       "      <th>2014-09-30</th>\n",
       "      <td>400</td>\n",
       "      <td>364.378361</td>\n",
       "    </tr>\n",
       "    <tr>\n",
       "      <th>2014-12-31</th>\n",
       "      <td>450</td>\n",
       "      <td>365.247689</td>\n",
       "    </tr>\n",
       "    <tr>\n",
       "      <th>2015-03-31</th>\n",
       "      <td>350</td>\n",
       "      <td>383.701324</td>\n",
       "    </tr>\n",
       "    <tr>\n",
       "      <th>2015-06-30</th>\n",
       "      <td>200</td>\n",
       "      <td>370.428329</td>\n",
       "    </tr>\n",
       "    <tr>\n",
       "      <th>2015-09-30</th>\n",
       "      <td>300</td>\n",
       "      <td>312.310586</td>\n",
       "    </tr>\n",
       "    <tr>\n",
       "      <th>2015-12-31</th>\n",
       "      <td>350</td>\n",
       "      <td>292.960637</td>\n",
       "    </tr>\n",
       "    <tr>\n",
       "      <th>2016-03-31</th>\n",
       "      <td>200</td>\n",
       "      <td>294.518097</td>\n",
       "    </tr>\n",
       "    <tr>\n",
       "      <th>2016-06-30</th>\n",
       "      <td>150</td>\n",
       "      <td>252.268717</td>\n",
       "    </tr>\n",
       "    <tr>\n",
       "      <th>2016-09-30</th>\n",
       "      <td>400</td>\n",
       "      <td>201.686946</td>\n",
       "    </tr>\n",
       "    <tr>\n",
       "      <th>2016-12-31</th>\n",
       "      <td>550</td>\n",
       "      <td>238.665472</td>\n",
       "    </tr>\n",
       "    <tr>\n",
       "      <th>2017-03-31</th>\n",
       "      <td>350</td>\n",
       "      <td>323.371297</td>\n",
       "    </tr>\n",
       "    <tr>\n",
       "      <th>2017-06-30</th>\n",
       "      <td>250</td>\n",
       "      <td>338.551082</td>\n",
       "    </tr>\n",
       "    <tr>\n",
       "      <th>2017-09-30</th>\n",
       "      <td>550</td>\n",
       "      <td>319.393390</td>\n",
       "    </tr>\n",
       "    <tr>\n",
       "      <th>2017-12-31</th>\n",
       "      <td>550</td>\n",
       "      <td>394.460076</td>\n",
       "    </tr>\n",
       "    <tr>\n",
       "      <th>2018-03-31</th>\n",
       "      <td>400</td>\n",
       "      <td>460.481373</td>\n",
       "    </tr>\n",
       "    <tr>\n",
       "      <th>2018-06-30</th>\n",
       "      <td>350</td>\n",
       "      <td>468.704722</td>\n",
       "    </tr>\n",
       "    <tr>\n",
       "      <th>2018-09-30</th>\n",
       "      <td>600</td>\n",
       "      <td>454.947259</td>\n",
       "    </tr>\n",
       "    <tr>\n",
       "      <th>2018-12-31</th>\n",
       "      <td>750</td>\n",
       "      <td>516.212041</td>\n",
       "    </tr>\n",
       "    <tr>\n",
       "      <th>2019-03-31</th>\n",
       "      <td>500</td>\n",
       "      <td>614.282726</td>\n",
       "    </tr>\n",
       "    <tr>\n",
       "      <th>2019-06-30</th>\n",
       "      <td>400</td>\n",
       "      <td>618.172447</td>\n",
       "    </tr>\n",
       "    <tr>\n",
       "      <th>2019-09-30</th>\n",
       "      <td>650</td>\n",
       "      <td>582.443223</td>\n",
       "    </tr>\n",
       "    <tr>\n",
       "      <th>2019-12-31</th>\n",
       "      <td>850</td>\n",
       "      <td>622.384879</td>\n",
       "    </tr>\n",
       "  </tbody>\n",
       "</table>\n",
       "</div>"
      ],
      "text/plain": [
       "                Kysyntä     Ennuste\n",
       "Vuosineljännes                     \n",
       "2013-12-31          500  409.956208\n",
       "2014-03-31          350  438.107318\n",
       "2014-06-30          250  416.202652\n",
       "2014-09-30          400  364.378361\n",
       "2014-12-31          450  365.247689\n",
       "2015-03-31          350  383.701324\n",
       "2015-06-30          200  370.428329\n",
       "2015-09-30          300  312.310586\n",
       "2015-12-31          350  292.960637\n",
       "2016-03-31          200  294.518097\n",
       "2016-06-30          150  252.268717\n",
       "2016-09-30          400  201.686946\n",
       "2016-12-31          550  238.665472\n",
       "2017-03-31          350  323.371297\n",
       "2017-06-30          250  338.551082\n",
       "2017-09-30          550  319.393390\n",
       "2017-12-31          550  394.460076\n",
       "2018-03-31          400  460.481373\n",
       "2018-06-30          350  468.704722\n",
       "2018-09-30          600  454.947259\n",
       "2018-12-31          750  516.212041\n",
       "2019-03-31          500  614.282726\n",
       "2019-06-30          400  618.172447\n",
       "2019-09-30          650  582.443223\n",
       "2019-12-31          850  622.384879"
      ]
     },
     "execution_count": 6,
     "metadata": {},
     "output_type": "execute_result"
    }
   ],
   "source": [
    "# malli-olion avulla saan mallin mukaan simuloidut ennusteet (fittedvalues) jo toteutuneille ajankohdille\n",
    "df['Ennuste'] = malli.fittedvalues\n",
    "df"
   ]
  },
  {
   "cell_type": "code",
   "execution_count": 7,
   "metadata": {},
   "outputs": [
    {
     "data": {
      "text/plain": [
       "<matplotlib.axes._subplots.AxesSubplot at 0x1e597613040>"
      ]
     },
     "execution_count": 7,
     "metadata": {},
     "output_type": "execute_result"
    },
    {
     "data": {
      "image/png": "[encoded data removed]",
      "text/plain": [
       "<Figure size 432x288 with 1 Axes>"
      ]
     },
     "metadata": {
      "needs_background": "light"
     },
     "output_type": "display_data"
    }
   ],
   "source": [
    "# Alkuperäinen aikasarja ja mallin mukaiset ennusteet samaan kaavioon\n",
    "df.plot()"
   ]
  },
  {
   "cell_type": "code",
   "execution_count": 8,
   "metadata": {},
   "outputs": [
    {
     "data": {
      "text/html": [
       "<div>\n",
       "<style scoped>\n",
       "    .dataframe tbody tr th:only-of-type {\n",
       "        vertical-align: middle;\n",
       "    }\n",
       "\n",
       "    .dataframe tbody tr th {\n",
       "        vertical-align: top;\n",
       "    }\n",
       "\n",
       "    .dataframe thead th {\n",
       "        text-align: right;\n",
       "    }\n",
       "</style>\n",
       "<table border=\"1\" class=\"dataframe\">\n",
       "  <thead>\n",
       "    <tr style=\"text-align: right;\">\n",
       "      <th></th>\n",
       "      <th>Kysyntä</th>\n",
       "      <th>Ennuste</th>\n",
       "      <th>Ennustevirhe</th>\n",
       "    </tr>\n",
       "    <tr>\n",
       "      <th>Vuosineljännes</th>\n",
       "      <th></th>\n",
       "      <th></th>\n",
       "      <th></th>\n",
       "    </tr>\n",
       "  </thead>\n",
       "  <tbody>\n",
       "    <tr>\n",
       "      <th>2013-12-31</th>\n",
       "      <td>500</td>\n",
       "      <td>409.956208</td>\n",
       "      <td>90.043792</td>\n",
       "    </tr>\n",
       "    <tr>\n",
       "      <th>2014-03-31</th>\n",
       "      <td>350</td>\n",
       "      <td>438.107318</td>\n",
       "      <td>-88.107318</td>\n",
       "    </tr>\n",
       "    <tr>\n",
       "      <th>2014-06-30</th>\n",
       "      <td>250</td>\n",
       "      <td>416.202652</td>\n",
       "      <td>-166.202652</td>\n",
       "    </tr>\n",
       "    <tr>\n",
       "      <th>2014-09-30</th>\n",
       "      <td>400</td>\n",
       "      <td>364.378361</td>\n",
       "      <td>35.621639</td>\n",
       "    </tr>\n",
       "    <tr>\n",
       "      <th>2014-12-31</th>\n",
       "      <td>450</td>\n",
       "      <td>365.247689</td>\n",
       "      <td>84.752311</td>\n",
       "    </tr>\n",
       "    <tr>\n",
       "      <th>2015-03-31</th>\n",
       "      <td>350</td>\n",
       "      <td>383.701324</td>\n",
       "      <td>-33.701324</td>\n",
       "    </tr>\n",
       "    <tr>\n",
       "      <th>2015-06-30</th>\n",
       "      <td>200</td>\n",
       "      <td>370.428329</td>\n",
       "      <td>-170.428329</td>\n",
       "    </tr>\n",
       "    <tr>\n",
       "      <th>2015-09-30</th>\n",
       "      <td>300</td>\n",
       "      <td>312.310586</td>\n",
       "      <td>-12.310586</td>\n",
       "    </tr>\n",
       "    <tr>\n",
       "      <th>2015-12-31</th>\n",
       "      <td>350</td>\n",
       "      <td>292.960637</td>\n",
       "      <td>57.039363</td>\n",
       "    </tr>\n",
       "    <tr>\n",
       "      <th>2016-03-31</th>\n",
       "      <td>200</td>\n",
       "      <td>294.518097</td>\n",
       "      <td>-94.518097</td>\n",
       "    </tr>\n",
       "    <tr>\n",
       "      <th>2016-06-30</th>\n",
       "      <td>150</td>\n",
       "      <td>252.268717</td>\n",
       "      <td>-102.268717</td>\n",
       "    </tr>\n",
       "    <tr>\n",
       "      <th>2016-09-30</th>\n",
       "      <td>400</td>\n",
       "      <td>201.686946</td>\n",
       "      <td>198.313054</td>\n",
       "    </tr>\n",
       "    <tr>\n",
       "      <th>2016-12-31</th>\n",
       "      <td>550</td>\n",
       "      <td>238.665472</td>\n",
       "      <td>311.334528</td>\n",
       "    </tr>\n",
       "    <tr>\n",
       "      <th>2017-03-31</th>\n",
       "      <td>350</td>\n",
       "      <td>323.371297</td>\n",
       "      <td>26.628703</td>\n",
       "    </tr>\n",
       "    <tr>\n",
       "      <th>2017-06-30</th>\n",
       "      <td>250</td>\n",
       "      <td>338.551082</td>\n",
       "      <td>-88.551082</td>\n",
       "    </tr>\n",
       "    <tr>\n",
       "      <th>2017-09-30</th>\n",
       "      <td>550</td>\n",
       "      <td>319.393390</td>\n",
       "      <td>230.606610</td>\n",
       "    </tr>\n",
       "    <tr>\n",
       "      <th>2017-12-31</th>\n",
       "      <td>550</td>\n",
       "      <td>394.460076</td>\n",
       "      <td>155.539924</td>\n",
       "    </tr>\n",
       "    <tr>\n",
       "      <th>2018-03-31</th>\n",
       "      <td>400</td>\n",
       "      <td>460.481373</td>\n",
       "      <td>-60.481373</td>\n",
       "    </tr>\n",
       "    <tr>\n",
       "      <th>2018-06-30</th>\n",
       "      <td>350</td>\n",
       "      <td>468.704722</td>\n",
       "      <td>-118.704722</td>\n",
       "    </tr>\n",
       "    <tr>\n",
       "      <th>2018-09-30</th>\n",
       "      <td>600</td>\n",
       "      <td>454.947259</td>\n",
       "      <td>145.052741</td>\n",
       "    </tr>\n",
       "    <tr>\n",
       "      <th>2018-12-31</th>\n",
       "      <td>750</td>\n",
       "      <td>516.212041</td>\n",
       "      <td>233.787959</td>\n",
       "    </tr>\n",
       "    <tr>\n",
       "      <th>2019-03-31</th>\n",
       "      <td>500</td>\n",
       "      <td>614.282726</td>\n",
       "      <td>-114.282726</td>\n",
       "    </tr>\n",
       "    <tr>\n",
       "      <th>2019-06-30</th>\n",
       "      <td>400</td>\n",
       "      <td>618.172447</td>\n",
       "      <td>-218.172447</td>\n",
       "    </tr>\n",
       "    <tr>\n",
       "      <th>2019-09-30</th>\n",
       "      <td>650</td>\n",
       "      <td>582.443223</td>\n",
       "      <td>67.556777</td>\n",
       "    </tr>\n",
       "    <tr>\n",
       "      <th>2019-12-31</th>\n",
       "      <td>850</td>\n",
       "      <td>622.384879</td>\n",
       "      <td>227.615121</td>\n",
       "    </tr>\n",
       "  </tbody>\n",
       "</table>\n",
       "</div>"
      ],
      "text/plain": [
       "                Kysyntä     Ennuste  Ennustevirhe\n",
       "Vuosineljännes                                   \n",
       "2013-12-31          500  409.956208     90.043792\n",
       "2014-03-31          350  438.107318    -88.107318\n",
       "2014-06-30          250  416.202652   -166.202652\n",
       "2014-09-30          400  364.378361     35.621639\n",
       "2014-12-31          450  365.247689     84.752311\n",
       "2015-03-31          350  383.701324    -33.701324\n",
       "2015-06-30          200  370.428329   -170.428329\n",
       "2015-09-30          300  312.310586    -12.310586\n",
       "2015-12-31          350  292.960637     57.039363\n",
       "2016-03-31          200  294.518097    -94.518097\n",
       "2016-06-30          150  252.268717   -102.268717\n",
       "2016-09-30          400  201.686946    198.313054\n",
       "2016-12-31          550  238.665472    311.334528\n",
       "2017-03-31          350  323.371297     26.628703\n",
       "2017-06-30          250  338.551082    -88.551082\n",
       "2017-09-30          550  319.393390    230.606610\n",
       "2017-12-31          550  394.460076    155.539924\n",
       "2018-03-31          400  460.481373    -60.481373\n",
       "2018-06-30          350  468.704722   -118.704722\n",
       "2018-09-30          600  454.947259    145.052741\n",
       "2018-12-31          750  516.212041    233.787959\n",
       "2019-03-31          500  614.282726   -114.282726\n",
       "2019-06-30          400  618.172447   -218.172447\n",
       "2019-09-30          650  582.443223     67.556777\n",
       "2019-12-31          850  622.384879    227.615121"
      ]
     },
     "execution_count": 8,
     "metadata": {},
     "output_type": "execute_result"
    }
   ],
   "source": [
    "# Ennustevirheet (residuaalit) löytyvät malli-oliosta\n",
    "df['Ennustevirhe'] = malli.resid\n",
    "df"
   ]
  },
  {
   "cell_type": "markdown",
   "metadata": {},
   "source": [
    "<h2>Mallin tarkastelu</h2>\n",
    "\n",
    "Mallin hyvyyden tarkasteluun on monia tapoja. Tässä käytän\n",
    "<ul><li>ennustevirheiden aikasarjaa viivakaaviona</li>\n",
    "    <li>ennusteiden ja toteutuneiden arvojen hajontakaaviota</li>\n",
    "    <li>malliin liittyvää statistiikkaa, jonka saan <b>summary()</b>-toiminnolla.</li>\n",
    "</ul>\n",
    "Huomaa erityisesti <b>SSE</b> (sum of squared errors). Mallia laskeva algoritmi yrittää saada SSE:n mahdollisimman pieneksi."
   ]
  },
  {
   "cell_type": "code",
   "execution_count": 9,
   "metadata": {},
   "outputs": [
    {
     "data": {
      "text/plain": [
       "Text(0, 0.5, 'Ennustevirhe')"
      ]
     },
     "execution_count": 9,
     "metadata": {},
     "output_type": "execute_result"
    },
    {
     "data": {
      "image/png": "[encoded data removed]",
      "text/plain": [
       "<Figure size 432x288 with 1 Axes>"
      ]
     },
     "metadata": {
      "needs_background": "light"
     },
     "output_type": "display_data"
    }
   ],
   "source": [
    "# Ennustevirheet aikasarjana\n",
    "# On hyvä, jos ennustevirheiden aikasarjan vaihtelu on sattumanvaraista\n",
    "df['Ennustevirhe'].plot()\n",
    "plt.ylabel('Ennustevirhe')"
   ]
  },
  {
   "cell_type": "code",
   "execution_count": 10,
   "metadata": {},
   "outputs": [
    {
     "data": {
      "text/plain": [
       "Text(0, 0.5, 'Toteutunut kysyntä')"
      ]
     },
     "execution_count": 10,
     "metadata": {},
     "output_type": "execute_result"
    },
    {
     "data": {
      "image/png": "[encoded data removed]",
      "text/plain": [
       "<Figure size 432x288 with 1 Axes>"
      ]
     },
     "metadata": {
      "needs_background": "light"
     },
     "output_type": "display_data"
    }
   ],
   "source": [
    "# Ennusteiden ja toteutuneiden kysyntöjen hajontakaavio\n",
    "# Ennustemalli on sitä parempi, mitä paremmin pisteet seuraavat suoraa viivaa\n",
    "# vasemmasta alakulmasta oikeaan yläkulmaan\n",
    "plt.scatter(x = df['Ennuste'], y = df['Kysyntä'])\n",
    "plt.xlabel('Ennuste')\n",
    "plt.ylabel('Toteutunut kysyntä')"
   ]
  },
  {
   "cell_type": "code",
   "execution_count": 11,
   "metadata": {},
   "outputs": [
    {
     "data": {
      "text/html": [
       "<table class=\"simpletable\">\n",
       "<caption>ExponentialSmoothing Model Results</caption>\n",
       "<tr>\n",
       "  <th>Dep. Variable:</th>            <td>endog</td>        <th>  No. Observations:  </th>        <td>25</td>       \n",
       "</tr>\n",
       "<tr>\n",
       "  <th>Model:</th>            <td>ExponentialSmoothing</td> <th>  SSE                </th>    <td>537583.104</td>   \n",
       "</tr>\n",
       "<tr>\n",
       "  <th>Optimized:</th>                <td>True</td>         <th>  AIC                </th>      <td>257.399</td>    \n",
       "</tr>\n",
       "<tr>\n",
       "  <th>Trend:</th>                  <td>Additive</td>       <th>  BIC                </th>      <td>262.275</td>    \n",
       "</tr>\n",
       "<tr>\n",
       "  <th>Seasonal:</th>                 <td>None</td>         <th>  AICC               </th>      <td>262.066</td>    \n",
       "</tr>\n",
       "<tr>\n",
       "  <th>Seasonal Periods:</th>         <td>None</td>         <th>  Date:              </th> <td>Mon, 21 Dec 2020</td>\n",
       "</tr>\n",
       "<tr>\n",
       "  <th>Box-Cox:</th>                  <td>False</td>        <th>  Time:              </th>     <td>16:00:01</td>    \n",
       "</tr>\n",
       "<tr>\n",
       "  <th>Box-Cox Coeff.:</th>           <td>None</td>         <th>                     </th>         <td> </td>       \n",
       "</tr>\n",
       "</table>\n",
       "<table class=\"simpletable\">\n",
       "<tr>\n",
       "         <td></td>                 <th>coeff</th>                <th>code</th>               <th>optimized</th>     \n",
       "</tr>\n",
       "<tr>\n",
       "  <th>smoothing_level</th> <td>           0.2500511</td> <td>               alpha</td> <td>                True</td>\n",
       "</tr>\n",
       "<tr>\n",
       "  <th>smoothing_slope</th> <td>           0.2500485</td> <td>                beta</td> <td>                True</td>\n",
       "</tr>\n",
       "<tr>\n",
       "  <th>initial_level</th>   <td>           409.95062</td> <td>                 l.0</td> <td>                True</td>\n",
       "</tr>\n",
       "<tr>\n",
       "  <th>initial_slope</th>   <td>           0.0055854</td> <td>                 b.0</td> <td>                True</td>\n",
       "</tr>\n",
       "</table>"
      ],
      "text/plain": [
       "<class 'statsmodels.iolib.summary.Summary'>\n",
       "\"\"\"\n",
       "                       ExponentialSmoothing Model Results                       \n",
       "================================================================================\n",
       "Dep. Variable:                    endog   No. Observations:                   25\n",
       "Model:             ExponentialSmoothing   SSE                         537583.104\n",
       "Optimized:                         True   AIC                            257.399\n",
       "Trend:                         Additive   BIC                            262.275\n",
       "Seasonal:                          None   AICC                           262.066\n",
       "Seasonal Periods:                  None   Date:                 Mon, 21 Dec 2020\n",
       "Box-Cox:                          False   Time:                         16:00:01\n",
       "Box-Cox Coeff.:                    None                                         \n",
       "==============================================================================\n",
       "                       coeff                 code              optimized      \n",
       "------------------------------------------------------------------------------\n",
       "smoothing_level            0.2500511                alpha                 True\n",
       "smoothing_slope            0.2500485                 beta                 True\n",
       "initial_level              409.95062                  l.0                 True\n",
       "initial_slope              0.0055854                  b.0                 True\n",
       "------------------------------------------------------------------------------\n",
       "\"\"\""
      ]
     },
     "execution_count": 11,
     "metadata": {},
     "output_type": "execute_result"
    }
   ],
   "source": [
    "malli.summary()"
   ]
  },
  {
   "cell_type": "markdown",
   "metadata": {},
   "source": [
    "<h2>Ennusteiden laskeminen</h2>\n",
    "\n",
    "Ennustettavien ajankohtien aikaleimojen määrittämiseksi:\n",
    "<ul><li>Ensimmäisen ennustettavan ajankohdan aikaleiman täytyy olla aikasarjan viimeisintä aikaleimaa seuraava aikaleima.</li>\n",
    "    <li>Ennustettavien ajankohtien lukumäärän voin määrittää <b>periods</b>-parametrilla.</li>\n",
    "    <li>Ennustettavien ajankohtien frekvenssin on oltava sama kuin mallia sovitettaessa käytetty <b>freq</b>-parametrin arvo.</li></ul>\n",
    "        \n",
    "Lisätietoa <b>freq</b>-parametrin mahdollisista arvoista https://pandas.pydata.org/pandas-docs/stable/user_guide/timeseries.html#offset-aliases"
   ]
  },
  {
   "cell_type": "code",
   "execution_count": 12,
   "metadata": {},
   "outputs": [
    {
     "data": {
      "text/html": [
       "<div>\n",
       "<style scoped>\n",
       "    .dataframe tbody tr th:only-of-type {\n",
       "        vertical-align: middle;\n",
       "    }\n",
       "\n",
       "    .dataframe tbody tr th {\n",
       "        vertical-align: top;\n",
       "    }\n",
       "\n",
       "    .dataframe thead th {\n",
       "        text-align: right;\n",
       "    }\n",
       "</style>\n",
       "<table border=\"1\" class=\"dataframe\">\n",
       "  <thead>\n",
       "    <tr style=\"text-align: right;\">\n",
       "      <th></th>\n",
       "      <th>Kysyntä</th>\n",
       "      <th>Ennuste</th>\n",
       "      <th>Ennustevirhe</th>\n",
       "    </tr>\n",
       "    <tr>\n",
       "      <th>Vuosineljännes</th>\n",
       "      <th></th>\n",
       "      <th></th>\n",
       "      <th></th>\n",
       "    </tr>\n",
       "  </thead>\n",
       "  <tbody>\n",
       "    <tr>\n",
       "      <th>2018-12-31</th>\n",
       "      <td>750</td>\n",
       "      <td>516.212041</td>\n",
       "      <td>233.787959</td>\n",
       "    </tr>\n",
       "    <tr>\n",
       "      <th>2019-03-31</th>\n",
       "      <td>500</td>\n",
       "      <td>614.282726</td>\n",
       "      <td>-114.282726</td>\n",
       "    </tr>\n",
       "    <tr>\n",
       "      <th>2019-06-30</th>\n",
       "      <td>400</td>\n",
       "      <td>618.172447</td>\n",
       "      <td>-218.172447</td>\n",
       "    </tr>\n",
       "    <tr>\n",
       "      <th>2019-09-30</th>\n",
       "      <td>650</td>\n",
       "      <td>582.443223</td>\n",
       "      <td>67.556777</td>\n",
       "    </tr>\n",
       "    <tr>\n",
       "      <th>2019-12-31</th>\n",
       "      <td>850</td>\n",
       "      <td>622.384879</td>\n",
       "      <td>227.615121</td>\n",
       "    </tr>\n",
       "  </tbody>\n",
       "</table>\n",
       "</div>"
      ],
      "text/plain": [
       "                Kysyntä     Ennuste  Ennustevirhe\n",
       "Vuosineljännes                                   \n",
       "2018-12-31          750  516.212041    233.787959\n",
       "2019-03-31          500  614.282726   -114.282726\n",
       "2019-06-30          400  618.172447   -218.172447\n",
       "2019-09-30          650  582.443223     67.556777\n",
       "2019-12-31          850  622.384879    227.615121"
      ]
     },
     "execution_count": 12,
     "metadata": {},
     "output_type": "execute_result"
    }
   ],
   "source": [
    "#Tarkistan viimeisen aikaleiman\n",
    "df.tail()"
   ]
  },
  {
   "cell_type": "code",
   "execution_count": 13,
   "metadata": {},
   "outputs": [
    {
     "data": {
      "text/html": [
       "<div>\n",
       "<style scoped>\n",
       "    .dataframe tbody tr th:only-of-type {\n",
       "        vertical-align: middle;\n",
       "    }\n",
       "\n",
       "    .dataframe tbody tr th {\n",
       "        vertical-align: top;\n",
       "    }\n",
       "\n",
       "    .dataframe thead th {\n",
       "        text-align: right;\n",
       "    }\n",
       "</style>\n",
       "<table border=\"1\" class=\"dataframe\">\n",
       "  <thead>\n",
       "    <tr style=\"text-align: right;\">\n",
       "      <th></th>\n",
       "      <th>Ennuste</th>\n",
       "    </tr>\n",
       "  </thead>\n",
       "  <tbody>\n",
       "    <tr>\n",
       "      <th>2020-03-31</th>\n",
       "      <td>716.580907</td>\n",
       "    </tr>\n",
       "    <tr>\n",
       "      <th>2020-06-30</th>\n",
       "      <td>753.861529</td>\n",
       "    </tr>\n",
       "    <tr>\n",
       "      <th>2020-09-30</th>\n",
       "      <td>791.142151</td>\n",
       "    </tr>\n",
       "    <tr>\n",
       "      <th>2020-12-31</th>\n",
       "      <td>828.422773</td>\n",
       "    </tr>\n",
       "    <tr>\n",
       "      <th>2021-03-31</th>\n",
       "      <td>865.703395</td>\n",
       "    </tr>\n",
       "    <tr>\n",
       "      <th>2021-06-30</th>\n",
       "      <td>902.984017</td>\n",
       "    </tr>\n",
       "    <tr>\n",
       "      <th>2021-09-30</th>\n",
       "      <td>940.264639</td>\n",
       "    </tr>\n",
       "    <tr>\n",
       "      <th>2021-12-31</th>\n",
       "      <td>977.545261</td>\n",
       "    </tr>\n",
       "  </tbody>\n",
       "</table>\n",
       "</div>"
      ],
      "text/plain": [
       "               Ennuste\n",
       "2020-03-31  716.580907\n",
       "2020-06-30  753.861529\n",
       "2020-09-30  791.142151\n",
       "2020-12-31  828.422773\n",
       "2021-03-31  865.703395\n",
       "2021-06-30  902.984017\n",
       "2021-09-30  940.264639\n",
       "2021-12-31  977.545261"
      ]
     },
     "execution_count": 13,
     "metadata": {},
     "output_type": "execute_result"
    }
   ],
   "source": [
    "# Ennustettavien ajankohtien aikaleimat (alkupäivänä aikasarjan viimeistä aikaleimaa seuraava aikaleima)\n",
    "index = pd.date_range('2020-03-31', periods = 8, freq = 'Q')\n",
    "\n",
    "# Ennusteet kahdeksalle vuosineljännekselle\n",
    "ennusteet = malli.forecast(8)\n",
    "\n",
    "# Ennusteet dataframeen\n",
    "df_ennuste = pd.DataFrame(data = ennusteet, index = index, \n",
    "                          columns = ['Ennuste'])\n",
    "df_ennuste"
   ]
  },
  {
   "cell_type": "code",
   "execution_count": 14,
   "metadata": {},
   "outputs": [
    {
     "data": {
      "text/plain": [
       "<matplotlib.axes._subplots.AxesSubplot at 0x1e5978029a0>"
      ]
     },
     "execution_count": 14,
     "metadata": {},
     "output_type": "execute_result"
    },
    {
     "data": {
      "image/png": "[encoded data removed]",
      "text/plain": [
       "<Figure size 432x288 with 1 Axes>"
      ]
     },
     "metadata": {
      "needs_background": "light"
     },
     "output_type": "display_data"
    }
   ],
   "source": [
    "# Viivakaavio havainnoista\n",
    "df['Kysyntä'].plot()\n",
    "\n",
    "# Ennusteet kaavioon\n",
    "df_ennuste['Ennuste'].plot()"
   ]
  }
 ],
 "metadata": {
  "kernelspec": {
   "display_name": "Python 3",
   "language": "python",
   "name": "python3"
  },
  "language_info": {
   "codemirror_mode": {
    "name": "ipython",
    "version": 3
   },
   "file_extension": ".py",
   "mimetype": "text/x-python",
   "name": "python",
   "nbconvert_exporter": "python",
   "pygments_lexer": "ipython3",
   "version": "3.8.3"
  }
 },
 "nbformat": 4,
 "nbformat_minor": 2
}
