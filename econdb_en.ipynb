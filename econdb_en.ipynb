{
 "cells": [
  {
   "cell_type": "markdown",
   "id": "09c59789",
   "metadata": {},
   "source": [
    "# Econdb &mdash; The Database of Economic Indicators "
   ]
  },
  {
   "cell_type": "markdown",
   "id": "943018a0",
   "metadata": {},
   "source": [
    "Econdb https://www.econdb.com/ contains a lot of economics related time series. Searches can be done using tickers or Python commands provided by Econdb."
   ]
  },
  {
   "cell_type": "markdown",
   "id": "bdd82549",
   "metadata": {},
   "source": [
    "You can install a new library in the following way.\n",
    "- Open Anaconda Navigator and choose **Environments**.\n",
    "- If **pandas-datareader** is not found in the list of **Installed**, select the list **Not installed**.\n",
    "- If **pandas-datareader** is not in this list either, update the list (**Update index**).\n",
    "- Choose **pandas-datareader** and in the bottom of the window select **Apply**. "
   ]
  },
  {
   "cell_type": "code",
   "execution_count": 1,
   "id": "2f1d679c",
   "metadata": {},
   "outputs": [],
   "source": [
    "### Import the libraries\n",
    "\n",
    "import pandas as pd\n",
    "import matplotlib.pyplot as plt\n",
    "import pandas_datareader.data as web\n",
    "%matplotlib inline"
   ]
  },
  {
   "cell_type": "markdown",
   "id": "4316ffc6",
   "metadata": {},
   "source": [
    "### Searching using tickers"
   ]
  },
  {
   "cell_type": "code",
   "execution_count": 2,
   "id": "768d5d6c",
   "metadata": {},
   "outputs": [
    {
     "data": {
      "text/html": [
       "<div>\n",
       "<style scoped>\n",
       "    .dataframe tbody tr th:only-of-type {\n",
       "        vertical-align: middle;\n",
       "    }\n",
       "\n",
       "    .dataframe tbody tr th {\n",
       "        vertical-align: top;\n",
       "    }\n",
       "\n",
       "    .dataframe thead th {\n",
       "        text-align: right;\n",
       "    }\n",
       "</style>\n",
       "<table border=\"1\" class=\"dataframe\">\n",
       "  <thead>\n",
       "    <tr style=\"text-align: right;\">\n",
       "      <th></th>\n",
       "      <th>Finland</th>\n",
       "      <th>Sweden</th>\n",
       "    </tr>\n",
       "    <tr>\n",
       "      <th>TIME_PERIOD</th>\n",
       "      <th></th>\n",
       "      <th></th>\n",
       "    </tr>\n",
       "  </thead>\n",
       "  <tbody>\n",
       "    <tr>\n",
       "      <th>2018-04-01</th>\n",
       "      <td>NaN</td>\n",
       "      <td>NaN</td>\n",
       "    </tr>\n",
       "    <tr>\n",
       "      <th>2018-07-01</th>\n",
       "      <td>-0.001199</td>\n",
       "      <td>-0.008071</td>\n",
       "    </tr>\n",
       "    <tr>\n",
       "      <th>2018-10-01</th>\n",
       "      <td>-0.000406</td>\n",
       "      <td>0.013147</td>\n",
       "    </tr>\n",
       "    <tr>\n",
       "      <th>2019-01-01</th>\n",
       "      <td>0.007698</td>\n",
       "      <td>0.006099</td>\n",
       "    </tr>\n",
       "    <tr>\n",
       "      <th>2019-04-01</th>\n",
       "      <td>0.008094</td>\n",
       "      <td>0.005040</td>\n",
       "    </tr>\n",
       "    <tr>\n",
       "      <th>2019-07-01</th>\n",
       "      <td>0.000469</td>\n",
       "      <td>0.001596</td>\n",
       "    </tr>\n",
       "    <tr>\n",
       "      <th>2019-10-01</th>\n",
       "      <td>-0.002588</td>\n",
       "      <td>0.004366</td>\n",
       "    </tr>\n",
       "    <tr>\n",
       "      <th>2020-01-01</th>\n",
       "      <td>-0.001916</td>\n",
       "      <td>-0.000768</td>\n",
       "    </tr>\n",
       "    <tr>\n",
       "      <th>2020-04-01</th>\n",
       "      <td>-0.062418</td>\n",
       "      <td>-0.082372</td>\n",
       "    </tr>\n",
       "    <tr>\n",
       "      <th>2020-07-01</th>\n",
       "      <td>0.049563</td>\n",
       "      <td>0.073750</td>\n",
       "    </tr>\n",
       "    <tr>\n",
       "      <th>2020-10-01</th>\n",
       "      <td>0.007022</td>\n",
       "      <td>0.000886</td>\n",
       "    </tr>\n",
       "    <tr>\n",
       "      <th>2021-01-01</th>\n",
       "      <td>-0.001462</td>\n",
       "      <td>0.014533</td>\n",
       "    </tr>\n",
       "    <tr>\n",
       "      <th>2021-04-01</th>\n",
       "      <td>0.015342</td>\n",
       "      <td>0.005618</td>\n",
       "    </tr>\n",
       "    <tr>\n",
       "      <th>2021-07-01</th>\n",
       "      <td>0.009535</td>\n",
       "      <td>0.017722</td>\n",
       "    </tr>\n",
       "    <tr>\n",
       "      <th>2021-10-01</th>\n",
       "      <td>0.006245</td>\n",
       "      <td>0.022183</td>\n",
       "    </tr>\n",
       "    <tr>\n",
       "      <th>2022-01-01</th>\n",
       "      <td>-0.000137</td>\n",
       "      <td>-0.004385</td>\n",
       "    </tr>\n",
       "    <tr>\n",
       "      <th>2022-04-01</th>\n",
       "      <td>0.010038</td>\n",
       "      <td>0.003362</td>\n",
       "    </tr>\n",
       "    <tr>\n",
       "      <th>2022-07-01</th>\n",
       "      <td>-0.002353</td>\n",
       "      <td>0.001808</td>\n",
       "    </tr>\n",
       "    <tr>\n",
       "      <th>2022-10-01</th>\n",
       "      <td>-0.001867</td>\n",
       "      <td>-0.006243</td>\n",
       "    </tr>\n",
       "  </tbody>\n",
       "</table>\n",
       "</div>"
      ],
      "text/plain": [
       "              Finland    Sweden\n",
       "TIME_PERIOD                    \n",
       "2018-04-01        NaN       NaN\n",
       "2018-07-01  -0.001199 -0.008071\n",
       "2018-10-01  -0.000406  0.013147\n",
       "2019-01-01   0.007698  0.006099\n",
       "2019-04-01   0.008094  0.005040\n",
       "2019-07-01   0.000469  0.001596\n",
       "2019-10-01  -0.002588  0.004366\n",
       "2020-01-01  -0.001916 -0.000768\n",
       "2020-04-01  -0.062418 -0.082372\n",
       "2020-07-01   0.049563  0.073750\n",
       "2020-10-01   0.007022  0.000886\n",
       "2021-01-01  -0.001462  0.014533\n",
       "2021-04-01   0.015342  0.005618\n",
       "2021-07-01   0.009535  0.017722\n",
       "2021-10-01   0.006245  0.022183\n",
       "2022-01-01  -0.000137 -0.004385\n",
       "2022-04-01   0.010038  0.003362\n",
       "2022-07-01  -0.002353  0.001808\n",
       "2022-10-01  -0.001867 -0.006243"
      ]
     },
     "execution_count": 2,
     "metadata": {},
     "output_type": "execute_result"
    }
   ],
   "source": [
    "### Real values of Finland's gross domestic product.\n",
    "\n",
    "df1 = web.DataReader('ticker=RGDPFI', 'econdb')\n",
    "\n",
    "### Real values of Sweden's gross domestic product.\n",
    "\n",
    "df2 = web.DataReader('ticker=RGDPSE', 'econdb')\n",
    "\n",
    "### Combine the data and tarnsform values into percentages of change\n",
    "\n",
    "df3 = pd.concat([df1.pct_change(), df2.pct_change()], axis = 1)\n",
    "df3.columns = ['Finland', 'Sweden']\n",
    "df3"
   ]
  },
  {
   "cell_type": "code",
   "execution_count": 3,
   "id": "e92e9d68",
   "metadata": {},
   "outputs": [
    {
     "data": {
      "text/plain": [
       "<matplotlib.lines.Line2D at 0x18ede10bdf0>"
      ]
     },
     "execution_count": 3,
     "metadata": {},
     "output_type": "execute_result"
    },
    {
     "data": {
      "image/png": "[encoded data removed]",
      "text/plain": [
       "<Figure size 640x480 with 1 Axes>"
      ]
     },
     "metadata": {},
     "output_type": "display_data"
    }
   ],
   "source": [
    "### Draw the calculation results\n",
    "\n",
    "df3.plot()\n",
    "plt.axhline(y=0, color = 'black', linewidth = 1, linestyle = '--')"
   ]
  },
  {
   "cell_type": "code",
   "execution_count": 4,
   "id": "d2fc80b5",
   "metadata": {},
   "outputs": [
    {
     "data": {
      "text/html": [
       "<div>\n",
       "<style scoped>\n",
       "    .dataframe tbody tr th:only-of-type {\n",
       "        vertical-align: middle;\n",
       "    }\n",
       "\n",
       "    .dataframe tbody tr th {\n",
       "        vertical-align: top;\n",
       "    }\n",
       "\n",
       "    .dataframe thead th {\n",
       "        text-align: right;\n",
       "    }\n",
       "</style>\n",
       "<table border=\"1\" class=\"dataframe\">\n",
       "  <thead>\n",
       "    <tr style=\"text-align: right;\">\n",
       "      <th></th>\n",
       "      <th>Finland</th>\n",
       "      <th>Sweden</th>\n",
       "    </tr>\n",
       "  </thead>\n",
       "  <tbody>\n",
       "    <tr>\n",
       "      <th>Finland</th>\n",
       "      <td>1.000000</td>\n",
       "      <td>0.949212</td>\n",
       "    </tr>\n",
       "    <tr>\n",
       "      <th>Sweden</th>\n",
       "      <td>0.949212</td>\n",
       "      <td>1.000000</td>\n",
       "    </tr>\n",
       "  </tbody>\n",
       "</table>\n",
       "</div>"
      ],
      "text/plain": [
       "          Finland    Sweden\n",
       "Finland  1.000000  0.949212\n",
       "Sweden   0.949212  1.000000"
      ]
     },
     "execution_count": 4,
     "metadata": {},
     "output_type": "execute_result"
    }
   ],
   "source": [
    "### Calculate the correlation between the two\n",
    "\n",
    "df3.corr()"
   ]
  },
  {
   "cell_type": "markdown",
   "id": "5d439e52",
   "metadata": {},
   "source": [
    "### Searching using the code copied from Econdb"
   ]
  },
  {
   "cell_type": "markdown",
   "id": "354d8ac1",
   "metadata": {},
   "source": [
    "Source and origin of inspiration:<br /> \n",
    "Aki Taanila: Data-analytiikka Pythonilla: <a href=\"https://tilastoapu.wordpress.com/python/\">https://tilastoapu.wordpress.com/python/</a>"
   ]
  }
 ],
 "metadata": {
  "kernelspec": {
   "display_name": "Python 3 (ipykernel)",
   "language": "python",
   "name": "python3"
  },
  "language_info": {
   "codemirror_mode": {
    "name": "ipython",
    "version": 3
   },
   "file_extension": ".py",
   "mimetype": "text/x-python",
   "name": "python",
   "nbconvert_exporter": "python",
   "pygments_lexer": "ipython3",
   "version": "3.9.13"
  }
 },
 "nbformat": 4,
 "nbformat_minor": 5
}
