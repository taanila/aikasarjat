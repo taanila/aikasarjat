{
 "cells": [
  {
   "cell_type": "markdown",
   "metadata": {},
   "source": [
    "<h1>Yksinkertainen eksponentiaalinen tasoitus</h1>\n",
    "\n",
    "Yksinkertainen eksponentiaalinen tasoitus sopii aikasarjoille, joissa ei ole havaittavaa trendiä tai kausivaihtelua. Eksponentiaalisen tasoituksen mallit (yksinkertainen, kaksinkertainen ja kolminkertainen) ovat erityisen suosittuja liiketaloudessa kysynnän ennustamisessa. Mallit ovat helppokäyttöisiä, nopeasti laskettavissa ja helposti päivitettävissä uusien havaintojen myötä.\n",
    "\n",
    "Jos ennustetaan pidemmälle kuin seuraavaan aikaleimaan, niin yksinkertainen eksoponentiaalinen tasoitus antaa kaikille tuleville aikaleimoille saman ennusteen.\n",
    "\n",
    "Eksponentiaalinen tasoitus löytyy <b>statsmodels.tsa</b>-kirjastosta.\n",
    "\n",
    "Huomaa, että tässä esimerkissä yksinkertainen eksoponentiaalinen tasoitus ei ole hyvä malli, koska aikasarjassa on selkeä trendi ja kausivaihtelu, jotka malli jättää huomiotta!\n",
    "\n",
    "Lisätietoa https://tilastoapu.wordpress.com/2018/08/30/aikasarjaennustaminen-1/"
   ]
  },
  {
   "cell_type": "code",
   "execution_count": 1,
   "metadata": {},
   "outputs": [],
   "source": [
    "import pandas as pd\n",
    "import matplotlib.pyplot as plt\n",
    "\n",
    "from statsmodels.tsa.api import ExponentialSmoothing\n",
    "\n",
    "import warnings\n",
    "warnings.filterwarnings('ignore')\n",
    "\n",
    "plt.style.use('seaborn-whitegrid')\n",
    "%matplotlib inline"
   ]
  },
  {
   "cell_type": "markdown",
   "metadata": {},
   "source": [
    "<h2>Aikasarjaan tutustuminen</h2>"
   ]
  },
  {
   "cell_type": "code",
   "execution_count": 2,
   "metadata": {},
   "outputs": [
    {
     "data": {
      "text/html": [
       "<div>\n",
       "<style scoped>\n",
       "    .dataframe tbody tr th:only-of-type {\n",
       "        vertical-align: middle;\n",
       "    }\n",
       "\n",
       "    .dataframe tbody tr th {\n",
       "        vertical-align: top;\n",
       "    }\n",
       "\n",
       "    .dataframe thead th {\n",
       "        text-align: right;\n",
       "    }\n",
       "</style>\n",
       "<table border=\"1\" class=\"dataframe\">\n",
       "  <thead>\n",
       "    <tr style=\"text-align: right;\">\n",
       "      <th></th>\n",
       "      <th>Vuosineljännes</th>\n",
       "      <th>Kysyntä</th>\n",
       "    </tr>\n",
       "  </thead>\n",
       "  <tbody>\n",
       "    <tr>\n",
       "      <th>0</th>\n",
       "      <td>2013-12-31</td>\n",
       "      <td>500</td>\n",
       "    </tr>\n",
       "    <tr>\n",
       "      <th>1</th>\n",
       "      <td>2014-03-31</td>\n",
       "      <td>350</td>\n",
       "    </tr>\n",
       "    <tr>\n",
       "      <th>2</th>\n",
       "      <td>2014-06-30</td>\n",
       "      <td>250</td>\n",
       "    </tr>\n",
       "    <tr>\n",
       "      <th>3</th>\n",
       "      <td>2014-09-30</td>\n",
       "      <td>400</td>\n",
       "    </tr>\n",
       "    <tr>\n",
       "      <th>4</th>\n",
       "      <td>2014-12-31</td>\n",
       "      <td>450</td>\n",
       "    </tr>\n",
       "  </tbody>\n",
       "</table>\n",
       "</div>"
      ],
      "text/plain": [
       "  Vuosineljännes  Kysyntä\n",
       "0     2013-12-31      500\n",
       "1     2014-03-31      350\n",
       "2     2014-06-30      250\n",
       "3     2014-09-30      400\n",
       "4     2014-12-31      450"
      ]
     },
     "execution_count": 2,
     "metadata": {},
     "output_type": "execute_result"
    }
   ],
   "source": [
    "df = pd.read_excel('http://taanila.fi/aikasarja.xlsx')\n",
    "df.head()"
   ]
  },
  {
   "cell_type": "code",
   "execution_count": 3,
   "metadata": {},
   "outputs": [
    {
     "data": {
      "text/html": [
       "<div>\n",
       "<style scoped>\n",
       "    .dataframe tbody tr th:only-of-type {\n",
       "        vertical-align: middle;\n",
       "    }\n",
       "\n",
       "    .dataframe tbody tr th {\n",
       "        vertical-align: top;\n",
       "    }\n",
       "\n",
       "    .dataframe thead th {\n",
       "        text-align: right;\n",
       "    }\n",
       "</style>\n",
       "<table border=\"1\" class=\"dataframe\">\n",
       "  <thead>\n",
       "    <tr style=\"text-align: right;\">\n",
       "      <th></th>\n",
       "      <th>Kysyntä</th>\n",
       "    </tr>\n",
       "    <tr>\n",
       "      <th>Vuosineljännes</th>\n",
       "      <th></th>\n",
       "    </tr>\n",
       "  </thead>\n",
       "  <tbody>\n",
       "    <tr>\n",
       "      <th>2013-12-31</th>\n",
       "      <td>500</td>\n",
       "    </tr>\n",
       "    <tr>\n",
       "      <th>2014-03-31</th>\n",
       "      <td>350</td>\n",
       "    </tr>\n",
       "    <tr>\n",
       "      <th>2014-06-30</th>\n",
       "      <td>250</td>\n",
       "    </tr>\n",
       "    <tr>\n",
       "      <th>2014-09-30</th>\n",
       "      <td>400</td>\n",
       "    </tr>\n",
       "    <tr>\n",
       "      <th>2014-12-31</th>\n",
       "      <td>450</td>\n",
       "    </tr>\n",
       "  </tbody>\n",
       "</table>\n",
       "</div>"
      ],
      "text/plain": [
       "                Kysyntä\n",
       "Vuosineljännes         \n",
       "2013-12-31          500\n",
       "2014-03-31          350\n",
       "2014-06-30          250\n",
       "2014-09-30          400\n",
       "2014-12-31          450"
      ]
     },
     "execution_count": 3,
     "metadata": {},
     "output_type": "execute_result"
    }
   ],
   "source": [
    "# Aikaleimat indeksiin\n",
    "# to_datetime muuntaa merkkijonomuotoisen tiedon aikaleimoiksi\n",
    "# format mahdollistaa erilaisten esitysmuotojen tunnistamisen aikaleimoiksi\n",
    "df.index = pd.to_datetime(df['Vuosineljännes'], format = \"%Y-%m-%d\")\n",
    "\n",
    "# Pudotetaan tarpeettomaksi käynyt sarake pois\n",
    "df = df.drop('Vuosineljännes', axis = 1)\n",
    "df.head()"
   ]
  },
  {
   "cell_type": "code",
   "execution_count": 4,
   "metadata": {},
   "outputs": [
    {
     "data": {
      "text/plain": [
       "<matplotlib.axes._subplots.AxesSubplot at 0x1a4cdaf62b0>"
      ]
     },
     "execution_count": 4,
     "metadata": {},
     "output_type": "execute_result"
    },
    {
     "data": {
      "image/png": "[encoded data removed]",
      "text/plain": [
       "<Figure size 432x288 with 1 Axes>"
      ]
     },
     "metadata": {
      "needs_background": "light"
     },
     "output_type": "display_data"
    }
   ],
   "source": [
    "df.plot()"
   ]
  },
  {
   "cell_type": "markdown",
   "metadata": {},
   "source": [
    "<h2>Mallin sovitus</h2>\n",
    "\n",
    "Ennustemalli sovitetaan (<b>fit()</b>) dataan. Tuloksena saadaan olio (tässä olen antanut oliolle nimeksi <b>malli</b>), joka sisältää monenlaista tietoa mallista.\n",
    "\n",
    "<b>freq</b>-parametrille käytän arvoa <b>'Q'</b>, koska kyseessä ovat vuosineljänneksien viimeiset päivät. Lisätietoa <b>freq</b>-parametrin mahdollisista arvoista https://pandas.pydata.org/pandas-docs/stable/user_guide/timeseries.html#offset-aliases"
   ]
  },
  {
   "cell_type": "code",
   "execution_count": 5,
   "metadata": {},
   "outputs": [],
   "source": [
    "malli = ExponentialSmoothing(df['Kysyntä'], freq = 'Q').fit()"
   ]
  },
  {
   "cell_type": "code",
   "execution_count": 6,
   "metadata": {},
   "outputs": [
    {
     "data": {
      "text/html": [
       "<div>\n",
       "<style scoped>\n",
       "    .dataframe tbody tr th:only-of-type {\n",
       "        vertical-align: middle;\n",
       "    }\n",
       "\n",
       "    .dataframe tbody tr th {\n",
       "        vertical-align: top;\n",
       "    }\n",
       "\n",
       "    .dataframe thead th {\n",
       "        text-align: right;\n",
       "    }\n",
       "</style>\n",
       "<table border=\"1\" class=\"dataframe\">\n",
       "  <thead>\n",
       "    <tr style=\"text-align: right;\">\n",
       "      <th></th>\n",
       "      <th>Kysyntä</th>\n",
       "      <th>Ennuste</th>\n",
       "    </tr>\n",
       "    <tr>\n",
       "      <th>Vuosineljännes</th>\n",
       "      <th></th>\n",
       "      <th></th>\n",
       "    </tr>\n",
       "  </thead>\n",
       "  <tbody>\n",
       "    <tr>\n",
       "      <th>2013-12-31</th>\n",
       "      <td>500</td>\n",
       "      <td>388.106374</td>\n",
       "    </tr>\n",
       "    <tr>\n",
       "      <th>2014-03-31</th>\n",
       "      <td>350</td>\n",
       "      <td>424.220025</td>\n",
       "    </tr>\n",
       "    <tr>\n",
       "      <th>2014-06-30</th>\n",
       "      <td>250</td>\n",
       "      <td>400.265523</td>\n",
       "    </tr>\n",
       "    <tr>\n",
       "      <th>2014-09-30</th>\n",
       "      <td>400</td>\n",
       "      <td>351.767347</td>\n",
       "    </tr>\n",
       "    <tr>\n",
       "      <th>2014-12-31</th>\n",
       "      <td>450</td>\n",
       "      <td>367.334429</td>\n",
       "    </tr>\n",
       "    <tr>\n",
       "      <th>2015-03-31</th>\n",
       "      <td>350</td>\n",
       "      <td>394.014730</td>\n",
       "    </tr>\n",
       "    <tr>\n",
       "      <th>2015-06-30</th>\n",
       "      <td>200</td>\n",
       "      <td>379.808982</td>\n",
       "    </tr>\n",
       "    <tr>\n",
       "      <th>2015-09-30</th>\n",
       "      <td>300</td>\n",
       "      <td>321.775660</td>\n",
       "    </tr>\n",
       "    <tr>\n",
       "      <th>2015-12-31</th>\n",
       "      <td>350</td>\n",
       "      <td>314.747569</td>\n",
       "    </tr>\n",
       "    <tr>\n",
       "      <th>2016-03-31</th>\n",
       "      <td>200</td>\n",
       "      <td>326.125286</td>\n",
       "    </tr>\n",
       "    <tr>\n",
       "      <th>2016-06-30</th>\n",
       "      <td>150</td>\n",
       "      <td>285.418368</td>\n",
       "    </tr>\n",
       "    <tr>\n",
       "      <th>2016-09-30</th>\n",
       "      <td>400</td>\n",
       "      <td>241.712110</td>\n",
       "    </tr>\n",
       "    <tr>\n",
       "      <th>2016-12-31</th>\n",
       "      <td>550</td>\n",
       "      <td>292.799503</td>\n",
       "    </tr>\n",
       "    <tr>\n",
       "      <th>2017-03-31</th>\n",
       "      <td>350</td>\n",
       "      <td>375.810926</td>\n",
       "    </tr>\n",
       "    <tr>\n",
       "      <th>2017-06-30</th>\n",
       "      <td>250</td>\n",
       "      <td>367.480453</td>\n",
       "    </tr>\n",
       "    <tr>\n",
       "      <th>2017-09-30</th>\n",
       "      <td>550</td>\n",
       "      <td>329.563654</td>\n",
       "    </tr>\n",
       "    <tr>\n",
       "      <th>2017-12-31</th>\n",
       "      <td>550</td>\n",
       "      <td>400.709453</td>\n",
       "    </tr>\n",
       "    <tr>\n",
       "      <th>2018-03-31</th>\n",
       "      <td>400</td>\n",
       "      <td>448.892955</td>\n",
       "    </tr>\n",
       "    <tr>\n",
       "      <th>2018-06-30</th>\n",
       "      <td>350</td>\n",
       "      <td>433.112761</td>\n",
       "    </tr>\n",
       "    <tr>\n",
       "      <th>2018-09-30</th>\n",
       "      <td>600</td>\n",
       "      <td>406.288129</td>\n",
       "    </tr>\n",
       "    <tr>\n",
       "      <th>2018-12-31</th>\n",
       "      <td>750</td>\n",
       "      <td>468.808607</td>\n",
       "    </tr>\n",
       "    <tr>\n",
       "      <th>2019-03-31</th>\n",
       "      <td>500</td>\n",
       "      <td>559.563088</td>\n",
       "    </tr>\n",
       "    <tr>\n",
       "      <th>2019-06-30</th>\n",
       "      <td>400</td>\n",
       "      <td>540.339110</td>\n",
       "    </tr>\n",
       "    <tr>\n",
       "      <th>2019-09-30</th>\n",
       "      <td>650</td>\n",
       "      <td>495.044683</td>\n",
       "    </tr>\n",
       "    <tr>\n",
       "      <th>2019-12-31</th>\n",
       "      <td>850</td>\n",
       "      <td>545.056489</td>\n",
       "    </tr>\n",
       "  </tbody>\n",
       "</table>\n",
       "</div>"
      ],
      "text/plain": [
       "                Kysyntä     Ennuste\n",
       "Vuosineljännes                     \n",
       "2013-12-31          500  388.106374\n",
       "2014-03-31          350  424.220025\n",
       "2014-06-30          250  400.265523\n",
       "2014-09-30          400  351.767347\n",
       "2014-12-31          450  367.334429\n",
       "2015-03-31          350  394.014730\n",
       "2015-06-30          200  379.808982\n",
       "2015-09-30          300  321.775660\n",
       "2015-12-31          350  314.747569\n",
       "2016-03-31          200  326.125286\n",
       "2016-06-30          150  285.418368\n",
       "2016-09-30          400  241.712110\n",
       "2016-12-31          550  292.799503\n",
       "2017-03-31          350  375.810926\n",
       "2017-06-30          250  367.480453\n",
       "2017-09-30          550  329.563654\n",
       "2017-12-31          550  400.709453\n",
       "2018-03-31          400  448.892955\n",
       "2018-06-30          350  433.112761\n",
       "2018-09-30          600  406.288129\n",
       "2018-12-31          750  468.808607\n",
       "2019-03-31          500  559.563088\n",
       "2019-06-30          400  540.339110\n",
       "2019-09-30          650  495.044683\n",
       "2019-12-31          850  545.056489"
      ]
     },
     "execution_count": 6,
     "metadata": {},
     "output_type": "execute_result"
    }
   ],
   "source": [
    "# malli-olion avulla saadaan mallin mukaan simuloidut ennusteet (fittedvalues)\n",
    "df['Ennuste'] = malli.fittedvalues\n",
    "df"
   ]
  },
  {
   "cell_type": "code",
   "execution_count": 7,
   "metadata": {},
   "outputs": [
    {
     "data": {
      "text/plain": [
       "<matplotlib.axes._subplots.AxesSubplot at 0x1a4ce2774c0>"
      ]
     },
     "execution_count": 7,
     "metadata": {},
     "output_type": "execute_result"
    },
    {
     "data": {
      "image/png": "[encoded data removed]",
      "text/plain": [
       "<Figure size 432x288 with 1 Axes>"
      ]
     },
     "metadata": {
      "needs_background": "light"
     },
     "output_type": "display_data"
    }
   ],
   "source": [
    "# Alkuperäinen aikasarja ja mallin mukaiset ennusteet samaan kaavioon\n",
    "df.plot()"
   ]
  },
  {
   "cell_type": "code",
   "execution_count": 8,
   "metadata": {},
   "outputs": [
    {
     "data": {
      "text/html": [
       "<div>\n",
       "<style scoped>\n",
       "    .dataframe tbody tr th:only-of-type {\n",
       "        vertical-align: middle;\n",
       "    }\n",
       "\n",
       "    .dataframe tbody tr th {\n",
       "        vertical-align: top;\n",
       "    }\n",
       "\n",
       "    .dataframe thead th {\n",
       "        text-align: right;\n",
       "    }\n",
       "</style>\n",
       "<table border=\"1\" class=\"dataframe\">\n",
       "  <thead>\n",
       "    <tr style=\"text-align: right;\">\n",
       "      <th></th>\n",
       "      <th>Kysyntä</th>\n",
       "      <th>Ennuste</th>\n",
       "      <th>Ennustevirhe</th>\n",
       "    </tr>\n",
       "    <tr>\n",
       "      <th>Vuosineljännes</th>\n",
       "      <th></th>\n",
       "      <th></th>\n",
       "      <th></th>\n",
       "    </tr>\n",
       "  </thead>\n",
       "  <tbody>\n",
       "    <tr>\n",
       "      <th>2013-12-31</th>\n",
       "      <td>500</td>\n",
       "      <td>388.106374</td>\n",
       "      <td>111.893626</td>\n",
       "    </tr>\n",
       "    <tr>\n",
       "      <th>2014-03-31</th>\n",
       "      <td>350</td>\n",
       "      <td>424.220025</td>\n",
       "      <td>-74.220025</td>\n",
       "    </tr>\n",
       "    <tr>\n",
       "      <th>2014-06-30</th>\n",
       "      <td>250</td>\n",
       "      <td>400.265523</td>\n",
       "      <td>-150.265523</td>\n",
       "    </tr>\n",
       "    <tr>\n",
       "      <th>2014-09-30</th>\n",
       "      <td>400</td>\n",
       "      <td>351.767347</td>\n",
       "      <td>48.232653</td>\n",
       "    </tr>\n",
       "    <tr>\n",
       "      <th>2014-12-31</th>\n",
       "      <td>450</td>\n",
       "      <td>367.334429</td>\n",
       "      <td>82.665571</td>\n",
       "    </tr>\n",
       "    <tr>\n",
       "      <th>2015-03-31</th>\n",
       "      <td>350</td>\n",
       "      <td>394.014730</td>\n",
       "      <td>-44.014730</td>\n",
       "    </tr>\n",
       "    <tr>\n",
       "      <th>2015-06-30</th>\n",
       "      <td>200</td>\n",
       "      <td>379.808982</td>\n",
       "      <td>-179.808982</td>\n",
       "    </tr>\n",
       "    <tr>\n",
       "      <th>2015-09-30</th>\n",
       "      <td>300</td>\n",
       "      <td>321.775660</td>\n",
       "      <td>-21.775660</td>\n",
       "    </tr>\n",
       "    <tr>\n",
       "      <th>2015-12-31</th>\n",
       "      <td>350</td>\n",
       "      <td>314.747569</td>\n",
       "      <td>35.252431</td>\n",
       "    </tr>\n",
       "    <tr>\n",
       "      <th>2016-03-31</th>\n",
       "      <td>200</td>\n",
       "      <td>326.125286</td>\n",
       "      <td>-126.125286</td>\n",
       "    </tr>\n",
       "    <tr>\n",
       "      <th>2016-06-30</th>\n",
       "      <td>150</td>\n",
       "      <td>285.418368</td>\n",
       "      <td>-135.418368</td>\n",
       "    </tr>\n",
       "    <tr>\n",
       "      <th>2016-09-30</th>\n",
       "      <td>400</td>\n",
       "      <td>241.712110</td>\n",
       "      <td>158.287890</td>\n",
       "    </tr>\n",
       "    <tr>\n",
       "      <th>2016-12-31</th>\n",
       "      <td>550</td>\n",
       "      <td>292.799503</td>\n",
       "      <td>257.200497</td>\n",
       "    </tr>\n",
       "    <tr>\n",
       "      <th>2017-03-31</th>\n",
       "      <td>350</td>\n",
       "      <td>375.810926</td>\n",
       "      <td>-25.810926</td>\n",
       "    </tr>\n",
       "    <tr>\n",
       "      <th>2017-06-30</th>\n",
       "      <td>250</td>\n",
       "      <td>367.480453</td>\n",
       "      <td>-117.480453</td>\n",
       "    </tr>\n",
       "    <tr>\n",
       "      <th>2017-09-30</th>\n",
       "      <td>550</td>\n",
       "      <td>329.563654</td>\n",
       "      <td>220.436346</td>\n",
       "    </tr>\n",
       "    <tr>\n",
       "      <th>2017-12-31</th>\n",
       "      <td>550</td>\n",
       "      <td>400.709453</td>\n",
       "      <td>149.290547</td>\n",
       "    </tr>\n",
       "    <tr>\n",
       "      <th>2018-03-31</th>\n",
       "      <td>400</td>\n",
       "      <td>448.892955</td>\n",
       "      <td>-48.892955</td>\n",
       "    </tr>\n",
       "    <tr>\n",
       "      <th>2018-06-30</th>\n",
       "      <td>350</td>\n",
       "      <td>433.112761</td>\n",
       "      <td>-83.112761</td>\n",
       "    </tr>\n",
       "    <tr>\n",
       "      <th>2018-09-30</th>\n",
       "      <td>600</td>\n",
       "      <td>406.288129</td>\n",
       "      <td>193.711871</td>\n",
       "    </tr>\n",
       "    <tr>\n",
       "      <th>2018-12-31</th>\n",
       "      <td>750</td>\n",
       "      <td>468.808607</td>\n",
       "      <td>281.191393</td>\n",
       "    </tr>\n",
       "    <tr>\n",
       "      <th>2019-03-31</th>\n",
       "      <td>500</td>\n",
       "      <td>559.563088</td>\n",
       "      <td>-59.563088</td>\n",
       "    </tr>\n",
       "    <tr>\n",
       "      <th>2019-06-30</th>\n",
       "      <td>400</td>\n",
       "      <td>540.339110</td>\n",
       "      <td>-140.339110</td>\n",
       "    </tr>\n",
       "    <tr>\n",
       "      <th>2019-09-30</th>\n",
       "      <td>650</td>\n",
       "      <td>495.044683</td>\n",
       "      <td>154.955317</td>\n",
       "    </tr>\n",
       "    <tr>\n",
       "      <th>2019-12-31</th>\n",
       "      <td>850</td>\n",
       "      <td>545.056489</td>\n",
       "      <td>304.943511</td>\n",
       "    </tr>\n",
       "  </tbody>\n",
       "</table>\n",
       "</div>"
      ],
      "text/plain": [
       "                Kysyntä     Ennuste  Ennustevirhe\n",
       "Vuosineljännes                                   \n",
       "2013-12-31          500  388.106374    111.893626\n",
       "2014-03-31          350  424.220025    -74.220025\n",
       "2014-06-30          250  400.265523   -150.265523\n",
       "2014-09-30          400  351.767347     48.232653\n",
       "2014-12-31          450  367.334429     82.665571\n",
       "2015-03-31          350  394.014730    -44.014730\n",
       "2015-06-30          200  379.808982   -179.808982\n",
       "2015-09-30          300  321.775660    -21.775660\n",
       "2015-12-31          350  314.747569     35.252431\n",
       "2016-03-31          200  326.125286   -126.125286\n",
       "2016-06-30          150  285.418368   -135.418368\n",
       "2016-09-30          400  241.712110    158.287890\n",
       "2016-12-31          550  292.799503    257.200497\n",
       "2017-03-31          350  375.810926    -25.810926\n",
       "2017-06-30          250  367.480453   -117.480453\n",
       "2017-09-30          550  329.563654    220.436346\n",
       "2017-12-31          550  400.709453    149.290547\n",
       "2018-03-31          400  448.892955    -48.892955\n",
       "2018-06-30          350  433.112761    -83.112761\n",
       "2018-09-30          600  406.288129    193.711871\n",
       "2018-12-31          750  468.808607    281.191393\n",
       "2019-03-31          500  559.563088    -59.563088\n",
       "2019-06-30          400  540.339110   -140.339110\n",
       "2019-09-30          650  495.044683    154.955317\n",
       "2019-12-31          850  545.056489    304.943511"
      ]
     },
     "execution_count": 8,
     "metadata": {},
     "output_type": "execute_result"
    }
   ],
   "source": [
    "# Ennustevirheet (residuaalit) löytyvät malli-oliosta\n",
    "df['Ennustevirhe'] = malli.resid\n",
    "df"
   ]
  },
  {
   "cell_type": "markdown",
   "metadata": {},
   "source": [
    "<h2>Mallin tarkastelu</h2>\n",
    "\n",
    "Mallin hyvyyden tarkasteluun on monia tapoja. Tässä käytän\n",
    "<ul><li>ennustevirheiden aikasarjaa viivakaaviona</li>\n",
    "    <li>ennusteiden ja toteutuneiden arvojen hajontakaaviota</li>\n",
    "    <li>malliin liittyvää statistiikkaa, jonka saan <b>summary()</b>-toiminnolla.</li>\n",
    "</ul>\n",
    "Huomaa erityisesti <b>SSE</b> (sum of squared errors). Mallia laskeva algoritmi yrittää saada SSE:n mahdollisimman pieneksi."
   ]
  },
  {
   "cell_type": "code",
   "execution_count": 9,
   "metadata": {},
   "outputs": [
    {
     "data": {
      "text/plain": [
       "Text(0, 0.5, 'Ennustevirhe')"
      ]
     },
     "execution_count": 9,
     "metadata": {},
     "output_type": "execute_result"
    },
    {
     "data": {
      "image/png": "[encoded data removed]",
      "text/plain": [
       "<Figure size 432x288 with 1 Axes>"
      ]
     },
     "metadata": {
      "needs_background": "light"
     },
     "output_type": "display_data"
    }
   ],
   "source": [
    "# Ennustevirheet aikasarjana\n",
    "# On hyvä, jos ennustevirheiden aikasarjan vaihtelu on sattumanvaraista\n",
    "df['Ennustevirhe'].plot()\n",
    "plt.ylabel('Ennustevirhe')"
   ]
  },
  {
   "cell_type": "code",
   "execution_count": 10,
   "metadata": {},
   "outputs": [
    {
     "data": {
      "text/plain": [
       "Text(0, 0.5, 'Toteutunut kysyntä')"
      ]
     },
     "execution_count": 10,
     "metadata": {},
     "output_type": "execute_result"
    },
    {
     "data": {
      "image/png": "[encoded data removed]",
      "text/plain": [
       "<Figure size 432x288 with 1 Axes>"
      ]
     },
     "metadata": {
      "needs_background": "light"
     },
     "output_type": "display_data"
    }
   ],
   "source": [
    "# Ennusteiden ja toteutuneiden kysyntöjen hajontakaavio\n",
    "# Ennustemalli on sitä parempi, mitä paremmin pisteet seuraavat suoraa viivaa\n",
    "# vasemmasta alakulmasta oikeaan yläkulmaan\n",
    "plt.scatter(x = df['Ennuste'], y = df['Kysyntä'])\n",
    "plt.xlabel('Ennuste')\n",
    "plt.ylabel('Toteutunut kysyntä')"
   ]
  },
  {
   "cell_type": "code",
   "execution_count": 11,
   "metadata": {},
   "outputs": [
    {
     "data": {
      "text/html": [
       "<table class=\"simpletable\">\n",
       "<caption>ExponentialSmoothing Model Results</caption>\n",
       "<tr>\n",
       "  <th>Dep. Variable:</th>            <td>endog</td>        <th>  No. Observations:  </th>        <td>25</td>       \n",
       "</tr>\n",
       "<tr>\n",
       "  <th>Model:</th>            <td>ExponentialSmoothing</td> <th>  SSE                </th>    <td>562690.236</td>   \n",
       "</tr>\n",
       "<tr>\n",
       "  <th>Optimized:</th>                <td>True</td>         <th>  AIC                </th>      <td>254.540</td>    \n",
       "</tr>\n",
       "<tr>\n",
       "  <th>Trend:</th>                    <td>None</td>         <th>  BIC                </th>      <td>256.978</td>    \n",
       "</tr>\n",
       "<tr>\n",
       "  <th>Seasonal:</th>                 <td>None</td>         <th>  AICC               </th>      <td>256.540</td>    \n",
       "</tr>\n",
       "<tr>\n",
       "  <th>Seasonal Periods:</th>         <td>None</td>         <th>  Date:              </th> <td>Mon, 21 Dec 2020</td>\n",
       "</tr>\n",
       "<tr>\n",
       "  <th>Box-Cox:</th>                  <td>False</td>        <th>  Time:              </th>     <td>15:59:39</td>    \n",
       "</tr>\n",
       "<tr>\n",
       "  <th>Box-Cox Coeff.:</th>           <td>None</td>         <th>                     </th>         <td> </td>       \n",
       "</tr>\n",
       "</table>\n",
       "<table class=\"simpletable\">\n",
       "<tr>\n",
       "         <td></td>                 <th>coeff</th>                <th>code</th>               <th>optimized</th>     \n",
       "</tr>\n",
       "<tr>\n",
       "  <th>smoothing_level</th> <td>           0.3227499</td> <td>               alpha</td> <td>                True</td>\n",
       "</tr>\n",
       "<tr>\n",
       "  <th>initial_level</th>   <td>           388.10637</td> <td>                 l.0</td> <td>                True</td>\n",
       "</tr>\n",
       "</table>"
      ],
      "text/plain": [
       "<class 'statsmodels.iolib.summary.Summary'>\n",
       "\"\"\"\n",
       "                       ExponentialSmoothing Model Results                       \n",
       "================================================================================\n",
       "Dep. Variable:                    endog   No. Observations:                   25\n",
       "Model:             ExponentialSmoothing   SSE                         562690.236\n",
       "Optimized:                         True   AIC                            254.540\n",
       "Trend:                             None   BIC                            256.978\n",
       "Seasonal:                          None   AICC                           256.540\n",
       "Seasonal Periods:                  None   Date:                 Mon, 21 Dec 2020\n",
       "Box-Cox:                          False   Time:                         15:59:39\n",
       "Box-Cox Coeff.:                    None                                         \n",
       "==============================================================================\n",
       "                       coeff                 code              optimized      \n",
       "------------------------------------------------------------------------------\n",
       "smoothing_level            0.3227499                alpha                 True\n",
       "initial_level              388.10637                  l.0                 True\n",
       "------------------------------------------------------------------------------\n",
       "\"\"\""
      ]
     },
     "execution_count": 11,
     "metadata": {},
     "output_type": "execute_result"
    }
   ],
   "source": [
    "malli.summary()"
   ]
  },
  {
   "cell_type": "markdown",
   "metadata": {},
   "source": [
    "<h2>Ennusteiden laskeminen</h2>\n",
    "\n",
    "Ennustettavien ajankohtien aikaleimojen määrittämiseksi:\n",
    "<ul><li>Ensimmäisen ennustettavan ajankohdan aikaleiman täytyy olla aikasarjan viimeisintä aikaleimaa seuraava aikaleima.</li>\n",
    "    <li>Ennustettavien ajankohtien lukumäärän voin määrittää <b>periods</b>-parametrilla.</li>\n",
    "    <li>Ennustettavien ajankohtien frekvenssin on oltava sama kuin mallia sovitettaessa käytetty <b>freq</b>-parametrin arvo.</li></ul>\n",
    "        \n",
    "Lisätietoa <b>freq</b>-parametrin mahdollisista arvoista https://pandas.pydata.org/pandas-docs/stable/user_guide/timeseries.html#offset-aliases"
   ]
  },
  {
   "cell_type": "code",
   "execution_count": 12,
   "metadata": {},
   "outputs": [
    {
     "data": {
      "text/html": [
       "<div>\n",
       "<style scoped>\n",
       "    .dataframe tbody tr th:only-of-type {\n",
       "        vertical-align: middle;\n",
       "    }\n",
       "\n",
       "    .dataframe tbody tr th {\n",
       "        vertical-align: top;\n",
       "    }\n",
       "\n",
       "    .dataframe thead th {\n",
       "        text-align: right;\n",
       "    }\n",
       "</style>\n",
       "<table border=\"1\" class=\"dataframe\">\n",
       "  <thead>\n",
       "    <tr style=\"text-align: right;\">\n",
       "      <th></th>\n",
       "      <th>Kysyntä</th>\n",
       "      <th>Ennuste</th>\n",
       "      <th>Ennustevirhe</th>\n",
       "    </tr>\n",
       "    <tr>\n",
       "      <th>Vuosineljännes</th>\n",
       "      <th></th>\n",
       "      <th></th>\n",
       "      <th></th>\n",
       "    </tr>\n",
       "  </thead>\n",
       "  <tbody>\n",
       "    <tr>\n",
       "      <th>2018-12-31</th>\n",
       "      <td>750</td>\n",
       "      <td>468.808607</td>\n",
       "      <td>281.191393</td>\n",
       "    </tr>\n",
       "    <tr>\n",
       "      <th>2019-03-31</th>\n",
       "      <td>500</td>\n",
       "      <td>559.563088</td>\n",
       "      <td>-59.563088</td>\n",
       "    </tr>\n",
       "    <tr>\n",
       "      <th>2019-06-30</th>\n",
       "      <td>400</td>\n",
       "      <td>540.339110</td>\n",
       "      <td>-140.339110</td>\n",
       "    </tr>\n",
       "    <tr>\n",
       "      <th>2019-09-30</th>\n",
       "      <td>650</td>\n",
       "      <td>495.044683</td>\n",
       "      <td>154.955317</td>\n",
       "    </tr>\n",
       "    <tr>\n",
       "      <th>2019-12-31</th>\n",
       "      <td>850</td>\n",
       "      <td>545.056489</td>\n",
       "      <td>304.943511</td>\n",
       "    </tr>\n",
       "  </tbody>\n",
       "</table>\n",
       "</div>"
      ],
      "text/plain": [
       "                Kysyntä     Ennuste  Ennustevirhe\n",
       "Vuosineljännes                                   \n",
       "2018-12-31          750  468.808607    281.191393\n",
       "2019-03-31          500  559.563088    -59.563088\n",
       "2019-06-30          400  540.339110   -140.339110\n",
       "2019-09-30          650  495.044683    154.955317\n",
       "2019-12-31          850  545.056489    304.943511"
      ]
     },
     "execution_count": 12,
     "metadata": {},
     "output_type": "execute_result"
    }
   ],
   "source": [
    "#Tarkistan viimeisen aikaleiman\n",
    "df.tail()"
   ]
  },
  {
   "cell_type": "code",
   "execution_count": 13,
   "metadata": {},
   "outputs": [
    {
     "data": {
      "text/html": [
       "<div>\n",
       "<style scoped>\n",
       "    .dataframe tbody tr th:only-of-type {\n",
       "        vertical-align: middle;\n",
       "    }\n",
       "\n",
       "    .dataframe tbody tr th {\n",
       "        vertical-align: top;\n",
       "    }\n",
       "\n",
       "    .dataframe thead th {\n",
       "        text-align: right;\n",
       "    }\n",
       "</style>\n",
       "<table border=\"1\" class=\"dataframe\">\n",
       "  <thead>\n",
       "    <tr style=\"text-align: right;\">\n",
       "      <th></th>\n",
       "      <th>Ennuste</th>\n",
       "    </tr>\n",
       "  </thead>\n",
       "  <tbody>\n",
       "    <tr>\n",
       "      <th>2020-03-31</th>\n",
       "      <td>643.476962</td>\n",
       "    </tr>\n",
       "    <tr>\n",
       "      <th>2020-06-30</th>\n",
       "      <td>643.476962</td>\n",
       "    </tr>\n",
       "    <tr>\n",
       "      <th>2020-09-30</th>\n",
       "      <td>643.476962</td>\n",
       "    </tr>\n",
       "    <tr>\n",
       "      <th>2020-12-31</th>\n",
       "      <td>643.476962</td>\n",
       "    </tr>\n",
       "    <tr>\n",
       "      <th>2021-03-31</th>\n",
       "      <td>643.476962</td>\n",
       "    </tr>\n",
       "    <tr>\n",
       "      <th>2021-06-30</th>\n",
       "      <td>643.476962</td>\n",
       "    </tr>\n",
       "    <tr>\n",
       "      <th>2021-09-30</th>\n",
       "      <td>643.476962</td>\n",
       "    </tr>\n",
       "    <tr>\n",
       "      <th>2021-12-31</th>\n",
       "      <td>643.476962</td>\n",
       "    </tr>\n",
       "  </tbody>\n",
       "</table>\n",
       "</div>"
      ],
      "text/plain": [
       "               Ennuste\n",
       "2020-03-31  643.476962\n",
       "2020-06-30  643.476962\n",
       "2020-09-30  643.476962\n",
       "2020-12-31  643.476962\n",
       "2021-03-31  643.476962\n",
       "2021-06-30  643.476962\n",
       "2021-09-30  643.476962\n",
       "2021-12-31  643.476962"
      ]
     },
     "execution_count": 13,
     "metadata": {},
     "output_type": "execute_result"
    }
   ],
   "source": [
    "# Ennustettavien ajankohtien aikaleimat (alkupäivänä aikasarjan viimeistä aikaleimaa seuraava aikaleima)\n",
    "index = pd.date_range('2020-03-31', periods = 8, freq = 'Q')\n",
    "\n",
    "# Ennusteet kahdeksalle vuosineljännekselle\n",
    "ennusteet = malli.forecast(8)\n",
    "\n",
    "# Ennusteet dataframeen\n",
    "df_ennuste = pd.DataFrame(data = ennusteet, index = index, \n",
    "                          columns = ['Ennuste'])\n",
    "df_ennuste"
   ]
  },
  {
   "cell_type": "code",
   "execution_count": 14,
   "metadata": {},
   "outputs": [
    {
     "data": {
      "text/plain": [
       "<matplotlib.axes._subplots.AxesSubplot at 0x1a4ce40e070>"
      ]
     },
     "execution_count": 14,
     "metadata": {},
     "output_type": "execute_result"
    },
    {
     "data": {
      "image/png": "[encoded data removed]",
      "text/plain": [
       "<Figure size 432x288 with 1 Axes>"
      ]
     },
     "metadata": {
      "needs_background": "light"
     },
     "output_type": "display_data"
    }
   ],
   "source": [
    "# Viivakaavio havainnoista\n",
    "df['Kysyntä'].plot()\n",
    "\n",
    "# Ennusteet kaavioon\n",
    "df_ennuste['Ennuste'].plot()"
   ]
  },
  {
   "cell_type": "markdown",
   "metadata": {},
   "source": [
    "Huomaa, että yksinkertainen eksponentiaalinen tasoitus antaa kaikille tuleville aikaleimoille saman ennusteen."
   ]
  }
 ],
 "metadata": {
  "kernelspec": {
   "display_name": "Python 3",
   "language": "python",
   "name": "python3"
  },
  "language_info": {
   "codemirror_mode": {
    "name": "ipython",
    "version": 3
   },
   "file_extension": ".py",
   "mimetype": "text/x-python",
   "name": "python",
   "nbconvert_exporter": "python",
   "pygments_lexer": "ipython3",
   "version": "3.8.3"
  }
 },
 "nbformat": 4,
 "nbformat_minor": 2
}
