{
 "cells": [
  {
   "cell_type": "code",
   "execution_count": 1,
   "metadata": {},
   "outputs": [
    {
     "name": "stdout",
     "output_type": "stream",
     "text": [
      "Päivitetty 2021-05-21 15:46:34.153242\n"
     ]
    }
   ],
   "source": [
    "from datetime import datetime\n",
    "print(f'Päivitetty {datetime.now()}')"
   ]
  },
  {
   "cell_type": "markdown",
   "metadata": {},
   "source": [
    "<h1>Yksinkertainen eksponentiaalinen tasoitus</h1>\n",
    "\n",
    "Yksinkertainen eksponentiaalinen tasoitus sopii aikasarjoille, joissa ei ole havaittavaa trendiä tai kausivaihtelua. Eksponentiaalisen tasoituksen mallit (yksinkertainen, kaksinkertainen ja kolminkertainen) ovat erityisen suosittuja liiketaloudessa kysynnän ennustamisessa. Mallit ovat helppokäyttöisiä, nopeasti laskettavissa ja helposti päivitettävissä uusien havaintojen myötä.\n",
    "\n",
    "Jos ennustetaan pidemmälle kuin seuraavaan aikaleimaan, niin yksinkertainen eksoponentiaalinen tasoitus antaa kaikille tuleville aikaleimoille saman ennusteen.\n",
    "\n",
    "Eksponentiaalinen tasoitus löytyy <b>statsmodels.tsa</b>-kirjastosta.\n",
    "\n",
    "Huomaa, että tässä esimerkissä yksinkertainen eksoponentiaalinen tasoitus ei ole hyvä malli, koska aikasarjassa on selkeä trendi ja kausivaihtelu, jotka malli jättää huomiotta!\n",
    "\n",
    "Lisätietoa https://tilastoapu.wordpress.com/2018/08/30/aikasarjaennustaminen-1/"
   ]
  },
  {
   "cell_type": "code",
   "execution_count": 2,
   "metadata": {},
   "outputs": [],
   "source": [
    "import pandas as pd\n",
    "import matplotlib.pyplot as plt\n",
    "\n",
    "from statsmodels.tsa.api import ExponentialSmoothing\n",
    "\n",
    "import warnings\n",
    "warnings.filterwarnings('ignore')\n",
    "\n",
    "plt.style.use('seaborn-whitegrid')"
   ]
  },
  {
   "cell_type": "markdown",
   "metadata": {},
   "source": [
    "<h2>Aikasarjaan tutustuminen</h2>"
   ]
  },
  {
   "cell_type": "code",
   "execution_count": 3,
   "metadata": {},
   "outputs": [
    {
     "data": {
      "text/html": [
       "<div>\n",
       "<style scoped>\n",
       "    .dataframe tbody tr th:only-of-type {\n",
       "        vertical-align: middle;\n",
       "    }\n",
       "\n",
       "    .dataframe tbody tr th {\n",
       "        vertical-align: top;\n",
       "    }\n",
       "\n",
       "    .dataframe thead th {\n",
       "        text-align: right;\n",
       "    }\n",
       "</style>\n",
       "<table border=\"1\" class=\"dataframe\">\n",
       "  <thead>\n",
       "    <tr style=\"text-align: right;\">\n",
       "      <th></th>\n",
       "      <th>Vuosineljännes</th>\n",
       "      <th>Kysyntä</th>\n",
       "    </tr>\n",
       "  </thead>\n",
       "  <tbody>\n",
       "    <tr>\n",
       "      <th>0</th>\n",
       "      <td>2013-12-31</td>\n",
       "      <td>500</td>\n",
       "    </tr>\n",
       "    <tr>\n",
       "      <th>1</th>\n",
       "      <td>2014-03-31</td>\n",
       "      <td>350</td>\n",
       "    </tr>\n",
       "    <tr>\n",
       "      <th>2</th>\n",
       "      <td>2014-06-30</td>\n",
       "      <td>250</td>\n",
       "    </tr>\n",
       "    <tr>\n",
       "      <th>3</th>\n",
       "      <td>2014-09-30</td>\n",
       "      <td>400</td>\n",
       "    </tr>\n",
       "    <tr>\n",
       "      <th>4</th>\n",
       "      <td>2014-12-31</td>\n",
       "      <td>450</td>\n",
       "    </tr>\n",
       "  </tbody>\n",
       "</table>\n",
       "</div>"
      ],
      "text/plain": [
       "  Vuosineljännes  Kysyntä\n",
       "0     2013-12-31      500\n",
       "1     2014-03-31      350\n",
       "2     2014-06-30      250\n",
       "3     2014-09-30      400\n",
       "4     2014-12-31      450"
      ]
     },
     "execution_count": 3,
     "metadata": {},
     "output_type": "execute_result"
    }
   ],
   "source": [
    "df = pd.read_excel('http://taanila.fi/aikasarja.xlsx')\n",
    "df.head()"
   ]
  },
  {
   "cell_type": "code",
   "execution_count": 4,
   "metadata": {},
   "outputs": [
    {
     "data": {
      "text/html": [
       "<div>\n",
       "<style scoped>\n",
       "    .dataframe tbody tr th:only-of-type {\n",
       "        vertical-align: middle;\n",
       "    }\n",
       "\n",
       "    .dataframe tbody tr th {\n",
       "        vertical-align: top;\n",
       "    }\n",
       "\n",
       "    .dataframe thead th {\n",
       "        text-align: right;\n",
       "    }\n",
       "</style>\n",
       "<table border=\"1\" class=\"dataframe\">\n",
       "  <thead>\n",
       "    <tr style=\"text-align: right;\">\n",
       "      <th></th>\n",
       "      <th>Kysyntä</th>\n",
       "    </tr>\n",
       "    <tr>\n",
       "      <th>Vuosineljännes</th>\n",
       "      <th></th>\n",
       "    </tr>\n",
       "  </thead>\n",
       "  <tbody>\n",
       "    <tr>\n",
       "      <th>2013-12-31</th>\n",
       "      <td>500</td>\n",
       "    </tr>\n",
       "    <tr>\n",
       "      <th>2014-03-31</th>\n",
       "      <td>350</td>\n",
       "    </tr>\n",
       "    <tr>\n",
       "      <th>2014-06-30</th>\n",
       "      <td>250</td>\n",
       "    </tr>\n",
       "    <tr>\n",
       "      <th>2014-09-30</th>\n",
       "      <td>400</td>\n",
       "    </tr>\n",
       "    <tr>\n",
       "      <th>2014-12-31</th>\n",
       "      <td>450</td>\n",
       "    </tr>\n",
       "  </tbody>\n",
       "</table>\n",
       "</div>"
      ],
      "text/plain": [
       "                Kysyntä\n",
       "Vuosineljännes         \n",
       "2013-12-31          500\n",
       "2014-03-31          350\n",
       "2014-06-30          250\n",
       "2014-09-30          400\n",
       "2014-12-31          450"
      ]
     },
     "execution_count": 4,
     "metadata": {},
     "output_type": "execute_result"
    }
   ],
   "source": [
    "# Aikaleimat indeksiin\n",
    "# to_datetime muuntaa merkkijonomuotoisen tiedon aikaleimoiksi\n",
    "# format mahdollistaa erilaisten esitysmuotojen tunnistamisen aikaleimoiksi\n",
    "df.index = pd.to_datetime(df['Vuosineljännes'], format = \"%Y-%m-%d\")\n",
    "\n",
    "# Pudotetaan tarpeettomaksi käynyt sarake pois\n",
    "df = df.drop('Vuosineljännes', axis = 1)\n",
    "df.head()"
   ]
  },
  {
   "cell_type": "code",
   "execution_count": 5,
   "metadata": {},
   "outputs": [
    {
     "data": {
      "text/plain": [
       "<AxesSubplot:xlabel='Vuosineljännes'>"
      ]
     },
     "execution_count": 5,
     "metadata": {},
     "output_type": "execute_result"
    },
    {
     "data": {
      "image/png": "[encoded data removed]",
      "text/plain": [
       "<Figure size 432x288 with 1 Axes>"
      ]
     },
     "metadata": {},
     "output_type": "display_data"
    }
   ],
   "source": [
    "df.plot()"
   ]
  },
  {
   "cell_type": "markdown",
   "metadata": {},
   "source": [
    "<h2>Mallin sovitus</h2>\n",
    "\n",
    "Ennustemalli sovitetaan (<b>fit()</b>) dataan. Tuloksena saadaan olio (tässä olen antanut oliolle nimeksi <b>malli</b>), joka sisältää monenlaista tietoa mallista.\n",
    "\n",
    "<b>freq</b>-parametrille käytän arvoa <b>'Q'</b>, koska kyseessä ovat vuosineljänneksien viimeiset päivät. Lisätietoa <b>freq</b>-parametrin mahdollisista arvoista https://pandas.pydata.org/pandas-docs/stable/user_guide/timeseries.html#offset-aliases"
   ]
  },
  {
   "cell_type": "code",
   "execution_count": 6,
   "metadata": {},
   "outputs": [],
   "source": [
    "malli = ExponentialSmoothing(df['Kysyntä'], freq = 'Q').fit()"
   ]
  },
  {
   "cell_type": "code",
   "execution_count": 7,
   "metadata": {},
   "outputs": [
    {
     "data": {
      "text/html": [
       "<div>\n",
       "<style scoped>\n",
       "    .dataframe tbody tr th:only-of-type {\n",
       "        vertical-align: middle;\n",
       "    }\n",
       "\n",
       "    .dataframe tbody tr th {\n",
       "        vertical-align: top;\n",
       "    }\n",
       "\n",
       "    .dataframe thead th {\n",
       "        text-align: right;\n",
       "    }\n",
       "</style>\n",
       "<table border=\"1\" class=\"dataframe\">\n",
       "  <thead>\n",
       "    <tr style=\"text-align: right;\">\n",
       "      <th></th>\n",
       "      <th>Kysyntä</th>\n",
       "      <th>Ennuste</th>\n",
       "    </tr>\n",
       "    <tr>\n",
       "      <th>Vuosineljännes</th>\n",
       "      <th></th>\n",
       "      <th></th>\n",
       "    </tr>\n",
       "  </thead>\n",
       "  <tbody>\n",
       "    <tr>\n",
       "      <th>2013-12-31</th>\n",
       "      <td>500</td>\n",
       "      <td>388.106006</td>\n",
       "    </tr>\n",
       "    <tr>\n",
       "      <th>2014-03-31</th>\n",
       "      <td>350</td>\n",
       "      <td>424.219757</td>\n",
       "    </tr>\n",
       "    <tr>\n",
       "      <th>2014-06-30</th>\n",
       "      <td>250</td>\n",
       "      <td>400.265354</td>\n",
       "    </tr>\n",
       "    <tr>\n",
       "      <th>2014-09-30</th>\n",
       "      <td>400</td>\n",
       "      <td>351.767258</td>\n",
       "    </tr>\n",
       "    <tr>\n",
       "      <th>2014-12-31</th>\n",
       "      <td>450</td>\n",
       "      <td>367.334361</td>\n",
       "    </tr>\n",
       "    <tr>\n",
       "      <th>2015-03-31</th>\n",
       "      <td>350</td>\n",
       "      <td>394.014670</td>\n",
       "    </tr>\n",
       "    <tr>\n",
       "      <th>2015-06-30</th>\n",
       "      <td>200</td>\n",
       "      <td>379.808949</td>\n",
       "    </tr>\n",
       "    <tr>\n",
       "      <th>2015-09-30</th>\n",
       "      <td>300</td>\n",
       "      <td>321.775667</td>\n",
       "    </tr>\n",
       "    <tr>\n",
       "      <th>2015-12-31</th>\n",
       "      <td>350</td>\n",
       "      <td>314.747578</td>\n",
       "    </tr>\n",
       "    <tr>\n",
       "      <th>2016-03-31</th>\n",
       "      <td>200</td>\n",
       "      <td>326.125286</td>\n",
       "    </tr>\n",
       "    <tr>\n",
       "      <th>2016-06-30</th>\n",
       "      <td>150</td>\n",
       "      <td>285.418390</td>\n",
       "    </tr>\n",
       "    <tr>\n",
       "      <th>2016-09-30</th>\n",
       "      <td>400</td>\n",
       "      <td>241.712147</td>\n",
       "    </tr>\n",
       "    <tr>\n",
       "      <th>2016-12-31</th>\n",
       "      <td>550</td>\n",
       "      <td>292.799502</td>\n",
       "    </tr>\n",
       "    <tr>\n",
       "      <th>2017-03-31</th>\n",
       "      <td>350</td>\n",
       "      <td>375.810881</td>\n",
       "    </tr>\n",
       "    <tr>\n",
       "      <th>2017-06-30</th>\n",
       "      <td>250</td>\n",
       "      <td>367.480427</td>\n",
       "    </tr>\n",
       "    <tr>\n",
       "      <th>2017-09-30</th>\n",
       "      <td>550</td>\n",
       "      <td>329.563657</td>\n",
       "    </tr>\n",
       "    <tr>\n",
       "      <th>2017-12-31</th>\n",
       "      <td>550</td>\n",
       "      <td>400.709417</td>\n",
       "    </tr>\n",
       "    <tr>\n",
       "      <th>2018-03-31</th>\n",
       "      <td>400</td>\n",
       "      <td>448.892905</td>\n",
       "    </tr>\n",
       "    <tr>\n",
       "      <th>2018-06-30</th>\n",
       "      <td>350</td>\n",
       "      <td>433.112736</td>\n",
       "    </tr>\n",
       "    <tr>\n",
       "      <th>2018-09-30</th>\n",
       "      <td>600</td>\n",
       "      <td>406.288126</td>\n",
       "    </tr>\n",
       "    <tr>\n",
       "      <th>2018-12-31</th>\n",
       "      <td>750</td>\n",
       "      <td>468.808572</td>\n",
       "    </tr>\n",
       "    <tr>\n",
       "      <th>2019-03-31</th>\n",
       "      <td>500</td>\n",
       "      <td>559.563017</td>\n",
       "    </tr>\n",
       "    <tr>\n",
       "      <th>2019-06-30</th>\n",
       "      <td>400</td>\n",
       "      <td>540.339072</td>\n",
       "    </tr>\n",
       "    <tr>\n",
       "      <th>2019-09-30</th>\n",
       "      <td>650</td>\n",
       "      <td>495.044681</td>\n",
       "    </tr>\n",
       "    <tr>\n",
       "      <th>2019-12-31</th>\n",
       "      <td>850</td>\n",
       "      <td>545.056461</td>\n",
       "    </tr>\n",
       "  </tbody>\n",
       "</table>\n",
       "</div>"
      ],
      "text/plain": [
       "                Kysyntä     Ennuste\n",
       "Vuosineljännes                     \n",
       "2013-12-31          500  388.106006\n",
       "2014-03-31          350  424.219757\n",
       "2014-06-30          250  400.265354\n",
       "2014-09-30          400  351.767258\n",
       "2014-12-31          450  367.334361\n",
       "2015-03-31          350  394.014670\n",
       "2015-06-30          200  379.808949\n",
       "2015-09-30          300  321.775667\n",
       "2015-12-31          350  314.747578\n",
       "2016-03-31          200  326.125286\n",
       "2016-06-30          150  285.418390\n",
       "2016-09-30          400  241.712147\n",
       "2016-12-31          550  292.799502\n",
       "2017-03-31          350  375.810881\n",
       "2017-06-30          250  367.480427\n",
       "2017-09-30          550  329.563657\n",
       "2017-12-31          550  400.709417\n",
       "2018-03-31          400  448.892905\n",
       "2018-06-30          350  433.112736\n",
       "2018-09-30          600  406.288126\n",
       "2018-12-31          750  468.808572\n",
       "2019-03-31          500  559.563017\n",
       "2019-06-30          400  540.339072\n",
       "2019-09-30          650  495.044681\n",
       "2019-12-31          850  545.056461"
      ]
     },
     "execution_count": 7,
     "metadata": {},
     "output_type": "execute_result"
    }
   ],
   "source": [
    "# malli-olion avulla saadaan mallin mukaan simuloidut ennusteet (fittedvalues)\n",
    "df['Ennuste'] = malli.fittedvalues\n",
    "df"
   ]
  },
  {
   "cell_type": "code",
   "execution_count": 8,
   "metadata": {},
   "outputs": [
    {
     "data": {
      "text/plain": [
       "<AxesSubplot:xlabel='Vuosineljännes'>"
      ]
     },
     "execution_count": 8,
     "metadata": {},
     "output_type": "execute_result"
    },
    {
     "data": {
      "image/png": "[encoded data removed]",
      "text/plain": [
       "<Figure size 432x288 with 1 Axes>"
      ]
     },
     "metadata": {},
     "output_type": "display_data"
    }
   ],
   "source": [
    "# Alkuperäinen aikasarja ja mallin mukaiset ennusteet samaan kaavioon\n",
    "df.plot()"
   ]
  },
  {
   "cell_type": "code",
   "execution_count": 9,
   "metadata": {},
   "outputs": [
    {
     "data": {
      "text/html": [
       "<div>\n",
       "<style scoped>\n",
       "    .dataframe tbody tr th:only-of-type {\n",
       "        vertical-align: middle;\n",
       "    }\n",
       "\n",
       "    .dataframe tbody tr th {\n",
       "        vertical-align: top;\n",
       "    }\n",
       "\n",
       "    .dataframe thead th {\n",
       "        text-align: right;\n",
       "    }\n",
       "</style>\n",
       "<table border=\"1\" class=\"dataframe\">\n",
       "  <thead>\n",
       "    <tr style=\"text-align: right;\">\n",
       "      <th></th>\n",
       "      <th>Kysyntä</th>\n",
       "      <th>Ennuste</th>\n",
       "      <th>Ennustevirhe</th>\n",
       "    </tr>\n",
       "    <tr>\n",
       "      <th>Vuosineljännes</th>\n",
       "      <th></th>\n",
       "      <th></th>\n",
       "      <th></th>\n",
       "    </tr>\n",
       "  </thead>\n",
       "  <tbody>\n",
       "    <tr>\n",
       "      <th>2013-12-31</th>\n",
       "      <td>500</td>\n",
       "      <td>388.106006</td>\n",
       "      <td>111.893994</td>\n",
       "    </tr>\n",
       "    <tr>\n",
       "      <th>2014-03-31</th>\n",
       "      <td>350</td>\n",
       "      <td>424.219757</td>\n",
       "      <td>-74.219757</td>\n",
       "    </tr>\n",
       "    <tr>\n",
       "      <th>2014-06-30</th>\n",
       "      <td>250</td>\n",
       "      <td>400.265354</td>\n",
       "      <td>-150.265354</td>\n",
       "    </tr>\n",
       "    <tr>\n",
       "      <th>2014-09-30</th>\n",
       "      <td>400</td>\n",
       "      <td>351.767258</td>\n",
       "      <td>48.232742</td>\n",
       "    </tr>\n",
       "    <tr>\n",
       "      <th>2014-12-31</th>\n",
       "      <td>450</td>\n",
       "      <td>367.334361</td>\n",
       "      <td>82.665639</td>\n",
       "    </tr>\n",
       "    <tr>\n",
       "      <th>2015-03-31</th>\n",
       "      <td>350</td>\n",
       "      <td>394.014670</td>\n",
       "      <td>-44.014670</td>\n",
       "    </tr>\n",
       "    <tr>\n",
       "      <th>2015-06-30</th>\n",
       "      <td>200</td>\n",
       "      <td>379.808949</td>\n",
       "      <td>-179.808949</td>\n",
       "    </tr>\n",
       "    <tr>\n",
       "      <th>2015-09-30</th>\n",
       "      <td>300</td>\n",
       "      <td>321.775667</td>\n",
       "      <td>-21.775667</td>\n",
       "    </tr>\n",
       "    <tr>\n",
       "      <th>2015-12-31</th>\n",
       "      <td>350</td>\n",
       "      <td>314.747578</td>\n",
       "      <td>35.252422</td>\n",
       "    </tr>\n",
       "    <tr>\n",
       "      <th>2016-03-31</th>\n",
       "      <td>200</td>\n",
       "      <td>326.125286</td>\n",
       "      <td>-126.125286</td>\n",
       "    </tr>\n",
       "    <tr>\n",
       "      <th>2016-06-30</th>\n",
       "      <td>150</td>\n",
       "      <td>285.418390</td>\n",
       "      <td>-135.418390</td>\n",
       "    </tr>\n",
       "    <tr>\n",
       "      <th>2016-09-30</th>\n",
       "      <td>400</td>\n",
       "      <td>241.712147</td>\n",
       "      <td>158.287853</td>\n",
       "    </tr>\n",
       "    <tr>\n",
       "      <th>2016-12-31</th>\n",
       "      <td>550</td>\n",
       "      <td>292.799502</td>\n",
       "      <td>257.200498</td>\n",
       "    </tr>\n",
       "    <tr>\n",
       "      <th>2017-03-31</th>\n",
       "      <td>350</td>\n",
       "      <td>375.810881</td>\n",
       "      <td>-25.810881</td>\n",
       "    </tr>\n",
       "    <tr>\n",
       "      <th>2017-06-30</th>\n",
       "      <td>250</td>\n",
       "      <td>367.480427</td>\n",
       "      <td>-117.480427</td>\n",
       "    </tr>\n",
       "    <tr>\n",
       "      <th>2017-09-30</th>\n",
       "      <td>550</td>\n",
       "      <td>329.563657</td>\n",
       "      <td>220.436343</td>\n",
       "    </tr>\n",
       "    <tr>\n",
       "      <th>2017-12-31</th>\n",
       "      <td>550</td>\n",
       "      <td>400.709417</td>\n",
       "      <td>149.290583</td>\n",
       "    </tr>\n",
       "    <tr>\n",
       "      <th>2018-03-31</th>\n",
       "      <td>400</td>\n",
       "      <td>448.892905</td>\n",
       "      <td>-48.892905</td>\n",
       "    </tr>\n",
       "    <tr>\n",
       "      <th>2018-06-30</th>\n",
       "      <td>350</td>\n",
       "      <td>433.112736</td>\n",
       "      <td>-83.112736</td>\n",
       "    </tr>\n",
       "    <tr>\n",
       "      <th>2018-09-30</th>\n",
       "      <td>600</td>\n",
       "      <td>406.288126</td>\n",
       "      <td>193.711874</td>\n",
       "    </tr>\n",
       "    <tr>\n",
       "      <th>2018-12-31</th>\n",
       "      <td>750</td>\n",
       "      <td>468.808572</td>\n",
       "      <td>281.191428</td>\n",
       "    </tr>\n",
       "    <tr>\n",
       "      <th>2019-03-31</th>\n",
       "      <td>500</td>\n",
       "      <td>559.563017</td>\n",
       "      <td>-59.563017</td>\n",
       "    </tr>\n",
       "    <tr>\n",
       "      <th>2019-06-30</th>\n",
       "      <td>400</td>\n",
       "      <td>540.339072</td>\n",
       "      <td>-140.339072</td>\n",
       "    </tr>\n",
       "    <tr>\n",
       "      <th>2019-09-30</th>\n",
       "      <td>650</td>\n",
       "      <td>495.044681</td>\n",
       "      <td>154.955319</td>\n",
       "    </tr>\n",
       "    <tr>\n",
       "      <th>2019-12-31</th>\n",
       "      <td>850</td>\n",
       "      <td>545.056461</td>\n",
       "      <td>304.943539</td>\n",
       "    </tr>\n",
       "  </tbody>\n",
       "</table>\n",
       "</div>"
      ],
      "text/plain": [
       "                Kysyntä     Ennuste  Ennustevirhe\n",
       "Vuosineljännes                                   \n",
       "2013-12-31          500  388.106006    111.893994\n",
       "2014-03-31          350  424.219757    -74.219757\n",
       "2014-06-30          250  400.265354   -150.265354\n",
       "2014-09-30          400  351.767258     48.232742\n",
       "2014-12-31          450  367.334361     82.665639\n",
       "2015-03-31          350  394.014670    -44.014670\n",
       "2015-06-30          200  379.808949   -179.808949\n",
       "2015-09-30          300  321.775667    -21.775667\n",
       "2015-12-31          350  314.747578     35.252422\n",
       "2016-03-31          200  326.125286   -126.125286\n",
       "2016-06-30          150  285.418390   -135.418390\n",
       "2016-09-30          400  241.712147    158.287853\n",
       "2016-12-31          550  292.799502    257.200498\n",
       "2017-03-31          350  375.810881    -25.810881\n",
       "2017-06-30          250  367.480427   -117.480427\n",
       "2017-09-30          550  329.563657    220.436343\n",
       "2017-12-31          550  400.709417    149.290583\n",
       "2018-03-31          400  448.892905    -48.892905\n",
       "2018-06-30          350  433.112736    -83.112736\n",
       "2018-09-30          600  406.288126    193.711874\n",
       "2018-12-31          750  468.808572    281.191428\n",
       "2019-03-31          500  559.563017    -59.563017\n",
       "2019-06-30          400  540.339072   -140.339072\n",
       "2019-09-30          650  495.044681    154.955319\n",
       "2019-12-31          850  545.056461    304.943539"
      ]
     },
     "execution_count": 9,
     "metadata": {},
     "output_type": "execute_result"
    }
   ],
   "source": [
    "# Ennustevirheet (residuaalit) löytyvät malli-oliosta\n",
    "df['Ennustevirhe'] = malli.resid\n",
    "df"
   ]
  },
  {
   "cell_type": "markdown",
   "metadata": {},
   "source": [
    "<h2>Mallin tarkastelu</h2>\n",
    "\n",
    "Mallin hyvyyden tarkasteluun on monia tapoja. Tässä käytän\n",
    "<ul><li>ennustevirheiden aikasarjaa viivakaaviona</li>\n",
    "    <li>ennusteiden ja toteutuneiden arvojen hajontakaaviota</li>\n",
    "    <li>malliin liittyvää statistiikkaa, jonka saan <b>summary()</b>-toiminnolla.</li>\n",
    "</ul>\n",
    "Huomaa erityisesti <b>SSE</b> (sum of squared errors). Mallia laskeva algoritmi yrittää saada SSE:n mahdollisimman pieneksi."
   ]
  },
  {
   "cell_type": "code",
   "execution_count": 10,
   "metadata": {},
   "outputs": [
    {
     "data": {
      "text/plain": [
       "Text(0, 0.5, 'Ennustevirhe')"
      ]
     },
     "execution_count": 10,
     "metadata": {},
     "output_type": "execute_result"
    },
    {
     "data": {
      "image/png": "[encoded data removed]",
      "text/plain": [
       "<Figure size 432x288 with 1 Axes>"
      ]
     },
     "metadata": {},
     "output_type": "display_data"
    }
   ],
   "source": [
    "# Ennustevirheet aikasarjana\n",
    "# On hyvä, jos ennustevirheiden aikasarjan vaihtelu on sattumanvaraista\n",
    "df['Ennustevirhe'].plot()\n",
    "plt.ylabel('Ennustevirhe')"
   ]
  },
  {
   "cell_type": "code",
   "execution_count": 11,
   "metadata": {},
   "outputs": [
    {
     "data": {
      "text/plain": [
       "Text(0, 0.5, 'Toteutunut kysyntä')"
      ]
     },
     "execution_count": 11,
     "metadata": {},
     "output_type": "execute_result"
    },
    {
     "data": {
      "image/png": "[encoded data removed]",
      "text/plain": [
       "<Figure size 432x288 with 1 Axes>"
      ]
     },
     "metadata": {},
     "output_type": "display_data"
    }
   ],
   "source": [
    "# Ennusteiden ja toteutuneiden kysyntöjen hajontakaavio\n",
    "# Ennustemalli on sitä parempi, mitä paremmin pisteet seuraavat suoraa viivaa\n",
    "# vasemmasta alakulmasta oikeaan yläkulmaan\n",
    "plt.scatter(x = df['Ennuste'], y = df['Kysyntä'])\n",
    "plt.xlabel('Ennuste')\n",
    "plt.ylabel('Toteutunut kysyntä')"
   ]
  },
  {
   "cell_type": "code",
   "execution_count": 12,
   "metadata": {},
   "outputs": [
    {
     "data": {
      "text/html": [
       "<table class=\"simpletable\">\n",
       "<caption>ExponentialSmoothing Model Results</caption>\n",
       "<tr>\n",
       "  <th>Dep. Variable:</th>           <td>Kysyntä</td>       <th>  No. Observations:  </th>        <td>25</td>       \n",
       "</tr>\n",
       "<tr>\n",
       "  <th>Model:</th>            <td>ExponentialSmoothing</td> <th>  SSE                </th>    <td>562690.236</td>   \n",
       "</tr>\n",
       "<tr>\n",
       "  <th>Optimized:</th>                <td>True</td>         <th>  AIC                </th>      <td>254.540</td>    \n",
       "</tr>\n",
       "<tr>\n",
       "  <th>Trend:</th>                    <td>None</td>         <th>  BIC                </th>      <td>256.978</td>    \n",
       "</tr>\n",
       "<tr>\n",
       "  <th>Seasonal:</th>                 <td>None</td>         <th>  AICC               </th>      <td>256.540</td>    \n",
       "</tr>\n",
       "<tr>\n",
       "  <th>Seasonal Periods:</th>         <td>None</td>         <th>  Date:              </th> <td>Fri, 21 May 2021</td>\n",
       "</tr>\n",
       "<tr>\n",
       "  <th>Box-Cox:</th>                  <td>False</td>        <th>  Time:              </th>     <td>15:46:37</td>    \n",
       "</tr>\n",
       "<tr>\n",
       "  <th>Box-Cox Coeff.:</th>           <td>None</td>         <th>                     </th>         <td> </td>       \n",
       "</tr>\n",
       "</table>\n",
       "<table class=\"simpletable\">\n",
       "<tr>\n",
       "         <td></td>                 <th>coeff</th>                <th>code</th>               <th>optimized</th>     \n",
       "</tr>\n",
       "<tr>\n",
       "  <th>smoothing_level</th> <td>           0.3227497</td> <td>               alpha</td> <td>                True</td>\n",
       "</tr>\n",
       "<tr>\n",
       "  <th>initial_level</th>   <td>           388.10601</td> <td>                 l.0</td> <td>                True</td>\n",
       "</tr>\n",
       "</table>"
      ],
      "text/plain": [
       "<class 'statsmodels.iolib.summary.Summary'>\n",
       "\"\"\"\n",
       "                       ExponentialSmoothing Model Results                       \n",
       "================================================================================\n",
       "Dep. Variable:                  Kysyntä   No. Observations:                   25\n",
       "Model:             ExponentialSmoothing   SSE                         562690.236\n",
       "Optimized:                         True   AIC                            254.540\n",
       "Trend:                             None   BIC                            256.978\n",
       "Seasonal:                          None   AICC                           256.540\n",
       "Seasonal Periods:                  None   Date:                 Fri, 21 May 2021\n",
       "Box-Cox:                          False   Time:                         15:46:37\n",
       "Box-Cox Coeff.:                    None                                         \n",
       "==============================================================================\n",
       "                       coeff                 code              optimized      \n",
       "------------------------------------------------------------------------------\n",
       "smoothing_level            0.3227497                alpha                 True\n",
       "initial_level              388.10601                  l.0                 True\n",
       "------------------------------------------------------------------------------\n",
       "\"\"\""
      ]
     },
     "execution_count": 12,
     "metadata": {},
     "output_type": "execute_result"
    }
   ],
   "source": [
    "# Mallin statistiikkaa\n",
    "malli.summary()"
   ]
  },
  {
   "cell_type": "markdown",
   "metadata": {},
   "source": [
    "<h2>Ennusteiden laskeminen</h2>\n",
    "\n",
    "Ennustettavien ajankohtien aikaleimojen määrittämiseksi:\n",
    "<ul><li>Ensimmäisen ennustettavan ajankohdan aikaleiman täytyy olla aikasarjan viimeisintä aikaleimaa seuraava aikaleima.</li>\n",
    "    <li>Ennustettavien ajankohtien lukumäärän voin määrittää <b>periods</b>-parametrilla.</li>\n",
    "    <li>Ennustettavien ajankohtien frekvenssin on oltava sama kuin mallia sovitettaessa käytetty <b>freq</b>-parametrin arvo.</li></ul>\n",
    "        \n",
    "Lisätietoa <b>freq</b>-parametrin mahdollisista arvoista https://pandas.pydata.org/pandas-docs/stable/user_guide/timeseries.html#offset-aliases"
   ]
  },
  {
   "cell_type": "code",
   "execution_count": 13,
   "metadata": {},
   "outputs": [
    {
     "data": {
      "text/html": [
       "<div>\n",
       "<style scoped>\n",
       "    .dataframe tbody tr th:only-of-type {\n",
       "        vertical-align: middle;\n",
       "    }\n",
       "\n",
       "    .dataframe tbody tr th {\n",
       "        vertical-align: top;\n",
       "    }\n",
       "\n",
       "    .dataframe thead th {\n",
       "        text-align: right;\n",
       "    }\n",
       "</style>\n",
       "<table border=\"1\" class=\"dataframe\">\n",
       "  <thead>\n",
       "    <tr style=\"text-align: right;\">\n",
       "      <th></th>\n",
       "      <th>Kysyntä</th>\n",
       "      <th>Ennuste</th>\n",
       "      <th>Ennustevirhe</th>\n",
       "    </tr>\n",
       "    <tr>\n",
       "      <th>Vuosineljännes</th>\n",
       "      <th></th>\n",
       "      <th></th>\n",
       "      <th></th>\n",
       "    </tr>\n",
       "  </thead>\n",
       "  <tbody>\n",
       "    <tr>\n",
       "      <th>2018-12-31</th>\n",
       "      <td>750</td>\n",
       "      <td>468.808572</td>\n",
       "      <td>281.191428</td>\n",
       "    </tr>\n",
       "    <tr>\n",
       "      <th>2019-03-31</th>\n",
       "      <td>500</td>\n",
       "      <td>559.563017</td>\n",
       "      <td>-59.563017</td>\n",
       "    </tr>\n",
       "    <tr>\n",
       "      <th>2019-06-30</th>\n",
       "      <td>400</td>\n",
       "      <td>540.339072</td>\n",
       "      <td>-140.339072</td>\n",
       "    </tr>\n",
       "    <tr>\n",
       "      <th>2019-09-30</th>\n",
       "      <td>650</td>\n",
       "      <td>495.044681</td>\n",
       "      <td>154.955319</td>\n",
       "    </tr>\n",
       "    <tr>\n",
       "      <th>2019-12-31</th>\n",
       "      <td>850</td>\n",
       "      <td>545.056461</td>\n",
       "      <td>304.943539</td>\n",
       "    </tr>\n",
       "  </tbody>\n",
       "</table>\n",
       "</div>"
      ],
      "text/plain": [
       "                Kysyntä     Ennuste  Ennustevirhe\n",
       "Vuosineljännes                                   \n",
       "2018-12-31          750  468.808572    281.191428\n",
       "2019-03-31          500  559.563017    -59.563017\n",
       "2019-06-30          400  540.339072   -140.339072\n",
       "2019-09-30          650  495.044681    154.955319\n",
       "2019-12-31          850  545.056461    304.943539"
      ]
     },
     "execution_count": 13,
     "metadata": {},
     "output_type": "execute_result"
    }
   ],
   "source": [
    "#Tarkistan viimeisen aikaleiman\n",
    "df.tail()"
   ]
  },
  {
   "cell_type": "code",
   "execution_count": 14,
   "metadata": {},
   "outputs": [
    {
     "data": {
      "text/html": [
       "<div>\n",
       "<style scoped>\n",
       "    .dataframe tbody tr th:only-of-type {\n",
       "        vertical-align: middle;\n",
       "    }\n",
       "\n",
       "    .dataframe tbody tr th {\n",
       "        vertical-align: top;\n",
       "    }\n",
       "\n",
       "    .dataframe thead th {\n",
       "        text-align: right;\n",
       "    }\n",
       "</style>\n",
       "<table border=\"1\" class=\"dataframe\">\n",
       "  <thead>\n",
       "    <tr style=\"text-align: right;\">\n",
       "      <th></th>\n",
       "      <th>Ennuste</th>\n",
       "    </tr>\n",
       "  </thead>\n",
       "  <tbody>\n",
       "    <tr>\n",
       "      <th>2020-03-31</th>\n",
       "      <td>643.476892</td>\n",
       "    </tr>\n",
       "    <tr>\n",
       "      <th>2020-06-30</th>\n",
       "      <td>643.476892</td>\n",
       "    </tr>\n",
       "    <tr>\n",
       "      <th>2020-09-30</th>\n",
       "      <td>643.476892</td>\n",
       "    </tr>\n",
       "    <tr>\n",
       "      <th>2020-12-31</th>\n",
       "      <td>643.476892</td>\n",
       "    </tr>\n",
       "    <tr>\n",
       "      <th>2021-03-31</th>\n",
       "      <td>643.476892</td>\n",
       "    </tr>\n",
       "    <tr>\n",
       "      <th>2021-06-30</th>\n",
       "      <td>643.476892</td>\n",
       "    </tr>\n",
       "    <tr>\n",
       "      <th>2021-09-30</th>\n",
       "      <td>643.476892</td>\n",
       "    </tr>\n",
       "    <tr>\n",
       "      <th>2021-12-31</th>\n",
       "      <td>643.476892</td>\n",
       "    </tr>\n",
       "  </tbody>\n",
       "</table>\n",
       "</div>"
      ],
      "text/plain": [
       "               Ennuste\n",
       "2020-03-31  643.476892\n",
       "2020-06-30  643.476892\n",
       "2020-09-30  643.476892\n",
       "2020-12-31  643.476892\n",
       "2021-03-31  643.476892\n",
       "2021-06-30  643.476892\n",
       "2021-09-30  643.476892\n",
       "2021-12-31  643.476892"
      ]
     },
     "execution_count": 14,
     "metadata": {},
     "output_type": "execute_result"
    }
   ],
   "source": [
    "# Ennustettavien ajankohtien aikaleimat (alkupäivänä aikasarjan viimeistä aikaleimaa seuraava aikaleima)\n",
    "index = pd.date_range('2020-03-31', periods = 8, freq = 'Q')\n",
    "\n",
    "# Ennusteet kahdeksalle vuosineljännekselle\n",
    "ennusteet = malli.forecast(8)\n",
    "\n",
    "# Ennusteet dataframeen\n",
    "df_ennuste = pd.DataFrame(data = ennusteet, index = index, columns = ['Ennuste'])\n",
    "df_ennuste"
   ]
  },
  {
   "cell_type": "code",
   "execution_count": 15,
   "metadata": {},
   "outputs": [
    {
     "data": {
      "text/plain": [
       "<AxesSubplot:xlabel='Vuosineljännes'>"
      ]
     },
     "execution_count": 15,
     "metadata": {},
     "output_type": "execute_result"
    },
    {
     "data": {
      "image/png": "[encoded data removed]",
      "text/plain": [
       "<Figure size 432x288 with 1 Axes>"
      ]
     },
     "metadata": {},
     "output_type": "display_data"
    }
   ],
   "source": [
    "# Viivakaavio havainnoista\n",
    "df['Kysyntä'].plot()\n",
    "\n",
    "# Ennusteet kaavioon; huomaa, että yksinkertainen eksponentiaalinen tasoitus tuottaa vakioennusteen (suora viiva)\n",
    "df_ennuste['Ennuste'].plot()"
   ]
  },
  {
   "cell_type": "markdown",
   "metadata": {},
   "source": [
    "<h2>Lisätietoa</h2>\n",
    "\n",
    "Data-analytiikka Pythonilla: https://tilastoapu.wordpress.com/python/"
   ]
  }
 ],
 "metadata": {
  "kernelspec": {
   "display_name": "Python 3",
   "language": "python",
   "name": "python3"
  },
  "language_info": {
   "codemirror_mode": {
    "name": "ipython",
    "version": 3
   },
   "file_extension": ".py",
   "mimetype": "text/x-python",
   "name": "python",
   "nbconvert_exporter": "python",
   "pygments_lexer": "ipython3",
   "version": "3.8.8"
  }
 },
 "nbformat": 4,
 "nbformat_minor": 2
}
